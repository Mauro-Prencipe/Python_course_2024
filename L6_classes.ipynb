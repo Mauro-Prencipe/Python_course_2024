{
 "cells": [
  {
   "cell_type": "markdown",
   "id": "29982e32",
   "metadata": {},
   "source": [
    "### Classes and Object Oriented Programming (OOP)"
   ]
  },
  {
   "cell_type": "markdown",
   "id": "29e85f20",
   "metadata": {},
   "source": [
    "Imagine that you want to store some *fundamental constant* in a program, that can be accessed at the global level, without the risk to shadow or destroy them, by redefinition, in some other part of the program.\n",
    "\n",
    "You can do that by build a specific *class* that stores those numbers: "
   ]
  },
  {
   "cell_type": "code",
   "execution_count": 1,
   "id": "abdb3a4b",
   "metadata": {},
   "outputs": [],
   "source": [
    "class constant_class():\n",
    "    def __init__(self):\n",
    "       self.h=6.62607e-34      # Planck\n",
    "       self.k=1.38065e-23      # Boltzmann\n",
    "       self.avo=6.02214e23     # Avogadro\n",
    "       self.R=self.avo*self.k  # Gas constant"
   ]
  },
  {
   "cell_type": "markdown",
   "id": "b2f88133",
   "metadata": {},
   "source": [
    "We defined the *class* *constant_class*. The *class* definition, at this level, is very much like a *function definition* (with an empty list of arguments, for now). \n",
    "\n",
    "Inside the class, we defined an ``` __init__ ``` function, with a strange argument *self* (*self* is a label that refers to the definition of the class, and that will be substituted by the label specifying each single *instance* of the class itself. \n",
    "\n",
    "The body of *init* consists of the assignment of our fundamental constants (in the standard SI units), each one preceded by the label *self*. Our constants will be the *attributes* of the class.\n",
    "\n",
    "To use the class, we first have to create an *instance* of it. We call *fc* such instance:"
   ]
  },
  {
   "cell_type": "code",
   "execution_count": 2,
   "id": "38fca6bc",
   "metadata": {},
   "outputs": [],
   "source": [
    "fc=constant_class()"
   ]
  },
  {
   "cell_type": "markdown",
   "id": "9414d498",
   "metadata": {},
   "source": [
    "Now, the retrieve the Avogadro number, you just have to write:"
   ]
  },
  {
   "cell_type": "code",
   "execution_count": 3,
   "id": "69f744ad",
   "metadata": {},
   "outputs": [
    {
     "data": {
      "text/plain": [
       "6.02214e+23"
      ]
     },
     "execution_count": 3,
     "metadata": {},
     "output_type": "execute_result"
    }
   ],
   "source": [
    "fc.avo"
   ]
  },
  {
   "cell_type": "markdown",
   "id": "f903c1d9",
   "metadata": {},
   "source": [
    "It works fine in functions, too:"
   ]
  },
  {
   "cell_type": "code",
   "execution_count": 4,
   "id": "c9683bd0",
   "metadata": {},
   "outputs": [
    {
     "name": "stdout",
     "output_type": "stream",
     "text": [
      "The avogadro number is  6.02214e+23\n"
     ]
    }
   ],
   "source": [
    "def func():\n",
    "    print(\"The avogadro number is \", fc.avo)\n",
    "    \n",
    "func()"
   ]
  },
  {
   "cell_type": "markdown",
   "id": "9da74d21",
   "metadata": {},
   "source": [
    "To get the value of some attribute of the class, it is a ***very good practice*** to define a function within the class that returns the value of the wanted attribute. A function within a class is called *method*:"
   ]
  },
  {
   "cell_type": "code",
   "execution_count": 5,
   "id": "e508ca85",
   "metadata": {},
   "outputs": [],
   "source": [
    "class constant_class():\n",
    "    def __init__(self):\n",
    "       self.h=6.62607e-34      # Planck\n",
    "       self.k=1.38065e-23      # Boltzmann\n",
    "       self.avo=6.02214e23     # Avogadro\n",
    "       self.R=self.avo*self.k  # Gas constant\n",
    "        \n",
    "    def get_avogadro(self):\n",
    "        return self.avo\n",
    "    \n",
    "    def get_boltzmann(self):\n",
    "        return self.k\n",
    "    \n",
    "    def get_planck(self):\n",
    "        return self.h\n",
    "    \n",
    "    def get_gas(self):\n",
    "        return self.R\n",
    "    \n",
    "fc=constant_class()"
   ]
  },
  {
   "cell_type": "markdown",
   "id": "399a7c6f",
   "metadata": {},
   "source": [
    "Now, wanting for instance the value of the gas constant, you can use the method *get_gas*:"
   ]
  },
  {
   "cell_type": "code",
   "execution_count": 6,
   "id": "e8f4121b",
   "metadata": {},
   "outputs": [
    {
     "data": {
      "text/plain": [
       "8.314467591"
      ]
     },
     "execution_count": 6,
     "metadata": {},
     "output_type": "execute_result"
    }
   ],
   "source": [
    "fc.get_gas()"
   ]
  },
  {
   "cell_type": "markdown",
   "id": "03a08822",
   "metadata": {},
   "source": [
    "You could also define a method *get_constant* that requires the name of the constant to be retrieved:"
   ]
  },
  {
   "cell_type": "code",
   "execution_count": 7,
   "id": "1061aef8",
   "metadata": {},
   "outputs": [],
   "source": [
    "class constant_class():\n",
    "    def __init__(self):\n",
    "       self.h=6.62607e-34      # Planck\n",
    "       self.k=1.38065e-23      # Boltzmann\n",
    "       self.avo=6.02214e23     # Avogadro\n",
    "       self.R=self.avo*self.k  # Gas constant\n",
    "        \n",
    "    def get_avogadro(self):\n",
    "        return self.avo\n",
    "    \n",
    "    def get_boltzmann(self):\n",
    "        return self.k\n",
    "    \n",
    "    def get_planck(self):\n",
    "        return self.h\n",
    "    \n",
    "    def get_gas(self):\n",
    "        return self.R\n",
    "    \n",
    "    def get_constant(self, const):      \n",
    "        if const=='avogadro':\n",
    "            return self.avo\n",
    "        elif const=='boltzmann':\n",
    "            return self.k\n",
    "        elif const=='planck':\n",
    "            return self.h\n",
    "        elif const=='gas':\n",
    "            return self.R\n",
    "        else:\n",
    "            print(\"Unknown constant \", const)\n",
    "              \n",
    "    \n",
    "fc=constant_class()"
   ]
  },
  {
   "cell_type": "code",
   "execution_count": 8,
   "id": "2d08716b",
   "metadata": {},
   "outputs": [
    {
     "data": {
      "text/plain": [
       "8.314467591"
      ]
     },
     "execution_count": 8,
     "metadata": {},
     "output_type": "execute_result"
    }
   ],
   "source": [
    "fc.get_constant('gas')"
   ]
  },
  {
   "cell_type": "markdown",
   "id": "14b58567",
   "metadata": {},
   "source": [
    "You can implement the method *get_constant* even by using a *match/case* construct (Python version >= 3.10):"
   ]
  },
  {
   "cell_type": "code",
   "execution_count": 9,
   "id": "041c73e3",
   "metadata": {},
   "outputs": [],
   "source": [
    "class constant_class():\n",
    "    def __init__(self):\n",
    "       self.h=6.62607e-34      # Planck\n",
    "       self.k=1.38065e-23      # Boltzmann\n",
    "       self.avo=6.02214e23     # Avogadro\n",
    "       self.R=self.avo*self.k  # Gas constant\n",
    "        \n",
    "    def get_avogadro(self):\n",
    "        return self.avo\n",
    "    \n",
    "    def get_boltzmann(self):\n",
    "        return self.k\n",
    "    \n",
    "    def get_planck(self):\n",
    "        return self.h\n",
    "    \n",
    "    def get_gas(self):\n",
    "        return self.R\n",
    "    \n",
    "    def get_constant(self, const):\n",
    "        match const:\n",
    "            case 'avogadro':\n",
    "                return self.avo\n",
    "            case 'boltzmann':\n",
    "                return self.k\n",
    "            case 'planck':\n",
    "                return self.h\n",
    "            case 'gas':\n",
    "                return self.R\n",
    "            case other:\n",
    "                print(\"Unknown constant \", const)\n",
    "              \n",
    "    \n",
    "fc=constant_class()"
   ]
  },
  {
   "cell_type": "code",
   "execution_count": 10,
   "id": "b1c9d1e6",
   "metadata": {},
   "outputs": [
    {
     "data": {
      "text/plain": [
       "1.38065e-23"
      ]
     },
     "execution_count": 10,
     "metadata": {},
     "output_type": "execute_result"
    }
   ],
   "source": [
    "fc.get_constant('boltzmann')"
   ]
  },
  {
   "cell_type": "markdown",
   "id": "060107ba",
   "metadata": {},
   "source": [
    "For instance:"
   ]
  },
  {
   "cell_type": "markdown",
   "id": "e8f9a490",
   "metadata": {},
   "source": [
    "Now, those constant are stored in SI units... but you might want them in some different units! For instance, the gas constant is stored in $m^3 Pa\\ /\\ mol K$, and you may want it in $\\ell atm\\ / mole K$. \n",
    "\n",
    "You need a conversion factor.\n",
    "\n",
    "So: \n",
    "\n",
    "- start by defining, in *init*, the variable *self.R_unit = 1.* This is the factor used to convert the value of your constant;\n",
    "- modify each function returning the value of *R* (*R* multiplied by such conversion factor);\n",
    "- define the function *set_unit* that *asks* for the constant and the type of units wanted."
   ]
  },
  {
   "cell_type": "code",
   "execution_count": 11,
   "id": "cffaba10",
   "metadata": {},
   "outputs": [],
   "source": [
    "class constant_class():\n",
    "    def __init__(self):\n",
    "       self.h=6.62607e-34      # Planck\n",
    "       self.k=1.38065e-23      # Boltzmann\n",
    "       self.avo=6.02214e23     # Avogadro\n",
    "       self.R=self.avo*self.k  # Gas constant\n",
    "       \n",
    "       self.R_unit=1.\n",
    "        \n",
    "    def get_avogadro(self):\n",
    "        return self.avo\n",
    "    \n",
    "    def get_boltzmann(self):\n",
    "        return self.k\n",
    "    \n",
    "    def get_planck(self):\n",
    "        return self.h\n",
    "    \n",
    "    def get_gas(self):\n",
    "        return self.R*self.R_unit\n",
    "    \n",
    "    def get_constant(self, const):      \n",
    "        if const=='avogadro':\n",
    "            return self.avo\n",
    "        elif const=='boltzmann':\n",
    "            return self.k\n",
    "        elif const=='planck':\n",
    "            return self.h\n",
    "        elif const=='gas':\n",
    "            return self.R*self.R_unit\n",
    "        else:\n",
    "            print(\"Unknown constant \", const)           \n",
    "            \n",
    "    def set_units(self, const, system='SI'):\n",
    "        if const=='gas':\n",
    "           if system =='SI': \n",
    "              self.R_unit=1.\n",
    "           elif system == 'litre_atm':\n",
    "              self.R_unit = 1e3/101325                 \n",
    "              \n",
    "    \n",
    "fc=constant_class()"
   ]
  },
  {
   "cell_type": "markdown",
   "id": "cf3d31f6",
   "metadata": {},
   "source": [
    "Now, ask for *R*:"
   ]
  },
  {
   "cell_type": "code",
   "execution_count": 12,
   "id": "55ee1072",
   "metadata": {},
   "outputs": [
    {
     "data": {
      "text/plain": [
       "8.314467591"
      ]
     },
     "execution_count": 12,
     "metadata": {},
     "output_type": "execute_result"
    }
   ],
   "source": [
    "fc.get_gas()"
   ]
  },
  {
   "cell_type": "markdown",
   "id": "8d7dbd67",
   "metadata": {},
   "source": [
    "Change units and ask for the constant again:"
   ]
  },
  {
   "cell_type": "code",
   "execution_count": 13,
   "id": "d6c0d723",
   "metadata": {},
   "outputs": [
    {
     "data": {
      "text/plain": [
       "0.08205741515914138"
      ]
     },
     "execution_count": 13,
     "metadata": {},
     "output_type": "execute_result"
    }
   ],
   "source": [
    "fc.set_units('gas', system='litre_atm')\n",
    "fc.get_gas()"
   ]
  },
  {
   "cell_type": "code",
   "execution_count": 14,
   "id": "58db90c2",
   "metadata": {},
   "outputs": [
    {
     "data": {
      "text/plain": [
       "0.08205741515914138"
      ]
     },
     "execution_count": 14,
     "metadata": {},
     "output_type": "execute_result"
    }
   ],
   "source": [
    "fc.get_gas()"
   ]
  },
  {
   "cell_type": "markdown",
   "id": "1cf46752",
   "metadata": {},
   "source": [
    "Note that if you directly access the attribute *R* of the class, instead of using the method *get_gas*, you get the value in SI units:"
   ]
  },
  {
   "cell_type": "code",
   "execution_count": 15,
   "id": "64f780b1",
   "metadata": {},
   "outputs": [
    {
     "data": {
      "text/plain": [
       "8.314467591"
      ]
     },
     "execution_count": 15,
     "metadata": {},
     "output_type": "execute_result"
    }
   ],
   "source": [
    "fc.R"
   ]
  },
  {
   "cell_type": "markdown",
   "id": "7c0eb37b",
   "metadata": {},
   "source": [
    "Of course there can be infinite ways to change the behaviour of the class, by adding other methods of modifying the existing ones. For instance, analyze this:"
   ]
  },
  {
   "cell_type": "code",
   "execution_count": 16,
   "id": "a0955b93",
   "metadata": {},
   "outputs": [],
   "source": [
    "class constant_class():\n",
    "    def __init__(self):\n",
    "       self.h=6.62607e-34      # Planck\n",
    "       self.k=1.38065e-23      # Boltzmann\n",
    "       self.avo=6.02214e23     # Avogadro\n",
    "       self.R=self.avo*self.k  # Gas constant\n",
    "       \n",
    "       self.R_unit=1.\n",
    "        \n",
    "    def get_avogadro(self):\n",
    "        return self.avo\n",
    "    \n",
    "    def get_boltzmann(self):\n",
    "        return self.k\n",
    "    \n",
    "    def get_planck(self):\n",
    "        return self.h\n",
    "    \n",
    "    def get_gas(self, units='default'):\n",
    "        if units=='default':\n",
    "           return self.R*self.R_unit\n",
    "        else:\n",
    "           self.set_units(const='gas', units=units)\n",
    "           R_value=self.R*self.R_unit\n",
    "           self.set_units(const='gas')\n",
    "           return R_value\n",
    "    \n",
    "    def get_constant(self, const, units='SI'):      \n",
    "        if const=='avogadro':\n",
    "            return self.avo\n",
    "        elif const=='boltzmann':\n",
    "            return self.k\n",
    "        elif const=='planck':\n",
    "            return self.h\n",
    "        elif const=='gas':\n",
    "            return self.get_gas(units)\n",
    "        else:\n",
    "            print(\"Unknown constant \", const)           \n",
    "            \n",
    "    def set_units(self, const, units='SI'):\n",
    "        if const=='gas':\n",
    "           if units =='SI': \n",
    "              self.R_unit=1.\n",
    "           elif units == 'litre_atm':\n",
    "              self.R_unit = 1e3/101325                 \n",
    "              \n",
    "    \n",
    "fc=constant_class()"
   ]
  },
  {
   "cell_type": "code",
   "execution_count": 17,
   "id": "89ca9c95",
   "metadata": {},
   "outputs": [
    {
     "name": "stdout",
     "output_type": "stream",
     "text": [
      "8.314467591\n",
      "0.08205741515914138\n",
      "8.314467591\n",
      "0.08205741515914138\n"
     ]
    }
   ],
   "source": [
    "print(fc.get_gas())\n",
    "print(fc.get_gas(units='litre_atm'))\n",
    "print(fc.get_constant('gas'))\n",
    "print(fc.get_constant('gas', units='litre_atm'))"
   ]
  },
  {
   "cell_type": "markdown",
   "id": "d477a35a",
   "metadata": {},
   "source": [
    "With this implementation you can also change the default conversion factor for the gas constant:"
   ]
  },
  {
   "cell_type": "code",
   "execution_count": 18,
   "id": "b51d15c0",
   "metadata": {},
   "outputs": [
    {
     "data": {
      "text/plain": [
       "0.08205741515914138"
      ]
     },
     "execution_count": 18,
     "metadata": {},
     "output_type": "execute_result"
    }
   ],
   "source": [
    "fc.set_units(const='gas', units='litre_atm')\n",
    "fc.get_gas()"
   ]
  },
  {
   "cell_type": "markdown",
   "id": "3dd51214",
   "metadata": {},
   "source": [
    "Never forget to *document* your class and to extensively test it! "
   ]
  },
  {
   "cell_type": "markdown",
   "id": "608763e8",
   "metadata": {},
   "source": [
    "Classes can be used to store variables at the global level, that can be modified within functions without the need to use *global* declaration, better by using the appropriate methods provided for the purpose. This is a *good programming practice* that can avoid a lot of mistakes.  "
   ]
  },
  {
   "cell_type": "code",
   "execution_count": 19,
   "id": "72ff726e",
   "metadata": {},
   "outputs": [
    {
     "name": "stdout",
     "output_type": "stream",
     "text": [
      "value of par:  2\n"
     ]
    }
   ],
   "source": [
    "class parameter_class():\n",
    "      def __init__(self, val=1):\n",
    "          self.par=val\n",
    "      def set_value(self, val):\n",
    "          self.par=val\n",
    "      def get_value(self):\n",
    "          return self.par\n",
    "        \n",
    "par=parameter_class(val=2)\n",
    "\n",
    "print(\"value of par: \", par.par)"
   ]
  },
  {
   "cell_type": "code",
   "execution_count": 20,
   "id": "39ed8de0",
   "metadata": {},
   "outputs": [
    {
     "name": "stdout",
     "output_type": "stream",
     "text": [
      "Before calling func:    2\n",
      "Inside func:            5\n",
      "After func was called:  5\n"
     ]
    }
   ],
   "source": [
    "def func():\n",
    "    par.set_value(5)\n",
    "    print(\"Inside func:           \", par.get_value())\n",
    "    \n",
    "print(\"Before calling func:   \", par.get_value())\n",
    "func()\n",
    "print(\"After func was called: \", par.get_value())"
   ]
  },
  {
   "cell_type": "markdown",
   "id": "6f2da32b",
   "metadata": {},
   "source": [
    "Now, reconsider the factorial function that was implemented by using a *class*:"
   ]
  },
  {
   "cell_type": "code",
   "execution_count": 21,
   "id": "49257e97",
   "metadata": {},
   "outputs": [],
   "source": [
    "class factorial_class():\n",
    "    def __init__(self):\n",
    "        self.fact=1\n",
    "        \n",
    "    def set_init(self):\n",
    "        self.fact=1\n",
    "        \n",
    "    def factorial(self, n, prn=False):\n",
    "        self.set_init()\n",
    "        self.fact_rec(n)\n",
    "        if prn:\n",
    "           print(\"The factorial of %3i  is %6i\" % (n, self.fact))\n",
    "        else:\n",
    "           return self.fact\n",
    "    \n",
    "    def fact_rec(self, b):            # <--- recursive function\n",
    "        self.fact=b*self.fact\n",
    "        b=b-1\n",
    "        if b == 1:\n",
    "           return \n",
    "        else:\n",
    "           self.fact_rec(b)\n",
    "    \n",
    "ff=factorial_class()"
   ]
  },
  {
   "cell_type": "code",
   "execution_count": 22,
   "id": "f692a700",
   "metadata": {},
   "outputs": [
    {
     "name": "stdout",
     "output_type": "stream",
     "text": [
      "The factorial of   8  is  40320\n"
     ]
    }
   ],
   "source": [
    "ff.factorial(8, prn=True)"
   ]
  },
  {
   "cell_type": "markdown",
   "id": "8af961e5",
   "metadata": {},
   "source": [
    "### Inheritance\n",
    "\n",
    "Classes can be defined so that they inherit attributes and/or methods from *super-classes*.\n",
    "\n",
    "Here there a very simple example of a *method_class* that only contains a method for computing the product of two scalars; then a *data_class* is defined so that it inherits that unique method from *method_class* and, in addition, defines and/or set two scalars: "
   ]
  },
  {
   "cell_type": "code",
   "execution_count": 23,
   "id": "1fdb60fa",
   "metadata": {},
   "outputs": [],
   "source": [
    "class method_class():\n",
    "\n",
    "    def compute(self):\n",
    "        return self.x*self.y\n",
    "    \n",
    "class data_class(method_class):\n",
    "      def __init__(self, xini, yini):\n",
    "            self.x=xini\n",
    "            self.y=yini\n",
    "      def set_x(self, x):\n",
    "          self.x=x\n",
    "      def set_y(self, y):\n",
    "          self.y=y\n",
    "    "
   ]
  },
  {
   "cell_type": "markdown",
   "id": "0e2c851a",
   "metadata": {},
   "source": [
    "Two instances *may_data_1* and *my_data_2* of the *data_class* class are defined, having different default values of those two scalars: "
   ]
  },
  {
   "cell_type": "code",
   "execution_count": 24,
   "id": "5bb01cdb",
   "metadata": {},
   "outputs": [],
   "source": [
    "my_data_1=data_class(1., 2.)\n",
    "my_data_2=data_class(3., 4.)"
   ]
  },
  {
   "cell_type": "markdown",
   "id": "336e2369",
   "metadata": {},
   "source": [
    "To see how to use it, have a look at the following examples:"
   ]
  },
  {
   "cell_type": "code",
   "execution_count": 25,
   "id": "58905bef",
   "metadata": {},
   "outputs": [
    {
     "data": {
      "text/plain": [
       "2.0"
      ]
     },
     "execution_count": 25,
     "metadata": {},
     "output_type": "execute_result"
    }
   ],
   "source": [
    "my_data_1.compute()"
   ]
  },
  {
   "cell_type": "code",
   "execution_count": 26,
   "id": "86b128c3",
   "metadata": {},
   "outputs": [
    {
     "data": {
      "text/plain": [
       "12.0"
      ]
     },
     "execution_count": 26,
     "metadata": {},
     "output_type": "execute_result"
    }
   ],
   "source": [
    "my_data_2.compute()"
   ]
  },
  {
   "cell_type": "code",
   "execution_count": 27,
   "id": "9b02d2e3",
   "metadata": {},
   "outputs": [
    {
     "name": "stdout",
     "output_type": "stream",
     "text": [
      "5.0\n",
      "10.0\n"
     ]
    }
   ],
   "source": [
    "my_data_1.set_x(5.)\n",
    "print(my_data_1.x)\n",
    "print(my_data_1.compute())"
   ]
  },
  {
   "cell_type": "markdown",
   "id": "e0229d43",
   "metadata": {},
   "source": [
    "###  Exercise:\n",
    "\n",
    "By using inheritance, code a class system that computes average and standard deviation of a dataset, each dataset being a different instance of a data_class."
   ]
  },
  {
   "cell_type": "code",
   "execution_count": 28,
   "id": "9c84f257",
   "metadata": {},
   "outputs": [],
   "source": [
    "class stat_class():\n",
    "      \n",
    "      def set_size(self):\n",
    "          self.size=len(self.data)\n",
    "          return self.size\n",
    "        \n",
    "      def average(self):\n",
    "          ave = 0.\n",
    "          size = self.set_size()\n",
    "          self.size=size\n",
    "          for ix in self.data:\n",
    "              ave=ave+ix\n",
    "          ave=ave/size\n",
    "          self.ave=ave\n",
    "          self.flag=True\n",
    "          return ave\n",
    "        \n",
    "      def standard_deviation(self, force=True):\n",
    "          if (not self.flag) or (self.flag and force):\n",
    "             ave=self.average() \n",
    "            \n",
    "          ave=self.ave\n",
    "          size=self.size\n",
    "          std=0.\n",
    "          for ix in self.data:\n",
    "              std=std+(ix-ave)**2\n",
    "                \n",
    "          std=(std/(size-1))**0.5\n",
    "          self.std=std\n",
    "          return std\n",
    "            \n",
    "      def describe(self):\n",
    "          if not self.flag:\n",
    "             self.average()\n",
    "             self.standard_deviation()\n",
    "                \n",
    "          print(\"data-set: %s\" % self.name)\n",
    "          print(\"Size: %4i\" % self.size)\n",
    "          print(\"Average:    %5.2f\" % self.ave)\n",
    "          print(\"Stand. dev: %5.2f\" % self.std)\n",
    "          \n",
    "            \n",
    "class data_class(stat_class):\n",
    "    def __init__(self, name='default set', x=[0., 0., 0.]):\n",
    "        self.data=x\n",
    "        self.name=name\n",
    "        self.ave=0.\n",
    "        self.std=0.\n",
    "        self.flag=False\n",
    "    def set_data(self, xlist):\n",
    "        self.data=xlist\n",
    "        self.flag=False\n",
    "        \n",
    "x1=[3., 4., 6.]\n",
    "x2=[1., 0., 6., 7., 10.]\n",
    "set_1=data_class('set_1', x1)\n",
    "set_2=data_class('set_2', x2)"
   ]
  },
  {
   "cell_type": "code",
   "execution_count": 29,
   "id": "7bf7fc09",
   "metadata": {},
   "outputs": [
    {
     "name": "stdout",
     "output_type": "stream",
     "text": [
      "data-set: set_1\n",
      "Size:    3\n",
      "Average:     4.33\n",
      "Stand. dev:  1.53\n"
     ]
    }
   ],
   "source": [
    "set_1.describe()"
   ]
  },
  {
   "cell_type": "markdown",
   "id": "906d0811",
   "metadata": {},
   "source": [
    "set_2.describe()"
   ]
  },
  {
   "cell_type": "code",
   "execution_count": 30,
   "id": "1caa36eb",
   "metadata": {},
   "outputs": [
    {
     "name": "stdout",
     "output_type": "stream",
     "text": [
      "data-set: set_2\n",
      "Size:    5\n",
      "Average:     4.80\n",
      "Stand. dev:  4.21\n"
     ]
    }
   ],
   "source": [
    "set_2.describe()"
   ]
  },
  {
   "cell_type": "code",
   "execution_count": 31,
   "id": "d99cd5f3",
   "metadata": {},
   "outputs": [
    {
     "name": "stdout",
     "output_type": "stream",
     "text": [
      "data-set: set_1\n",
      "Size:    5\n",
      "Average:     1.09\n",
      "Stand. dev:  0.27\n"
     ]
    }
   ],
   "source": [
    "set_1.set_data([1.0, 1.5, 1.2, 0.8, 0.95])\n",
    "set_1.describe()"
   ]
  },
  {
   "cell_type": "markdown",
   "id": "9f7591ef",
   "metadata": {},
   "source": [
    "Also, it is possible to define arrays of *object* like the one (*sets*) constructed here:"
   ]
  },
  {
   "cell_type": "code",
   "execution_count": 32,
   "id": "09f5f55b",
   "metadata": {},
   "outputs": [],
   "source": [
    "import numpy as np\n",
    "\n",
    "x1=np.array([1.0, 1.5, 1.2, 0.8, 0.95])\n",
    "x2=np.array([1.1, 1.2, 1.6, 0.7, 0.85])\n",
    "x3=np.array([0.9, 0.85, 1.24, 1.3, 1.25])\n",
    "\n",
    "set1=data_class('set_1',x1)\n",
    "set2=data_class('set_2',x2)\n",
    "set3=data_class('set_3',x3)\n",
    "\n",
    "sets=np.array([set1, set2, set3], dtype='object')"
   ]
  },
  {
   "cell_type": "markdown",
   "id": "5a11d572",
   "metadata": {},
   "source": [
    "To describe the second element (*object*) of the array *sets*..."
   ]
  },
  {
   "cell_type": "code",
   "execution_count": 33,
   "id": "5c71fde1",
   "metadata": {},
   "outputs": [
    {
     "name": "stdout",
     "output_type": "stream",
     "text": [
      "data-set: set_2\n",
      "Size:    5\n",
      "Average:     1.09\n",
      "Stand. dev:  0.35\n"
     ]
    }
   ],
   "source": [
    "sets[1].describe()"
   ]
  },
  {
   "cell_type": "markdown",
   "id": "68b6ae97",
   "metadata": {},
   "source": [
    "What follow is a rather advanced use of Python features. We exploit here the functions *exec* and *eval* that take strings and evaluate them. For instance:"
   ]
  },
  {
   "cell_type": "code",
   "execution_count": 34,
   "id": "40915134",
   "metadata": {},
   "outputs": [
    {
     "name": "stdout",
     "output_type": "stream",
     "text": [
      "1\n"
     ]
    }
   ],
   "source": [
    "a=1\n",
    "print(eval('a'))"
   ]
  },
  {
   "cell_type": "markdown",
   "id": "aca2ea9f",
   "metadata": {},
   "source": [
    "that is: there is a variable whose name is *a*, and there is the string 'a'... ``` eval('a') ``` *evaluates* 'a' to produce the variable name *a* and passes the result to the *print* function. Note that for the evaluation to be successful, the variable *a* MUST already exists in the namespace where *eval* is operating.\n",
    "\n",
    "The *exec* function works in this way:"
   ]
  },
  {
   "cell_type": "code",
   "execution_count": 35,
   "id": "26624cad",
   "metadata": {},
   "outputs": [
    {
     "name": "stdout",
     "output_type": "stream",
     "text": [
      "1\n"
     ]
    }
   ],
   "source": [
    "my_string='b=1'\n",
    "exec(my_string)\n",
    "print(b)"
   ]
  },
  {
   "cell_type": "markdown",
   "id": "d15886ef",
   "metadata": {},
   "source": [
    "here we have the string 'b=1' which is *executed* by the function *exec*. In this case, the result is the assignment ``` b=1 ``` and so, at the end of *exec*, we have a variable *b* which is equal to 1.   \n",
    "\n",
    "All this is used in the following code:"
   ]
  },
  {
   "cell_type": "code",
   "execution_count": 36,
   "id": "0978ad17",
   "metadata": {},
   "outputs": [],
   "source": [
    "x1=np.array([1.0, 1.5, 1.2, 0.8, 0.95])\n",
    "x2=np.array([1.1, 1.2, 1.6, 0.7, 0.85])\n",
    "x3=np.array([0.9, 0.85, 1.24, 1.3, 1.25])\n",
    "x=[x1, x2, x3]\n",
    "\n",
    "set_list=['set1', 'set2', 'set3']\n",
    "set_name=['set_1', 'set_2', 'set_3']\n",
    "\n",
    "for iset, ix, iname in zip(set_list, x, set_name):\n",
    "    exec(iset + '= data_class(iname, ix)')\n",
    "    \n",
    "l_set=list(eval(iset) for iset in set_list)\n",
    "sets=np.array(l_set, dtype='object')"
   ]
  },
  {
   "cell_type": "markdown",
   "id": "814b18c2",
   "metadata": {},
   "source": [
    "In the *for* cycle the *exec* commands execute the instructions \n",
    "\n",
    "```\n",
    "set1 = data_class('set_1', x1)\n",
    "set2 = data_class('set_2', x2)\n",
    "set3 = data_class('set_3', x3)\n",
    "```\n",
    "\n",
    "The *eval* commmand is used to define the list of the three *variables* corresponding to the strings in the list *set_list*. \n",
    "\n",
    "Now, as before, the three *objects* *set1*, *set2* and *set3* are contained in the array *sets*"
   ]
  },
  {
   "cell_type": "code",
   "execution_count": 37,
   "id": "8f572b2b",
   "metadata": {},
   "outputs": [
    {
     "name": "stdout",
     "output_type": "stream",
     "text": [
      "data-set: set_1\n",
      "Size:    5\n",
      "Average:     1.09\n",
      "Stand. dev:  0.27\n"
     ]
    }
   ],
   "source": [
    "sets[0].describe()"
   ]
  },
  {
   "cell_type": "code",
   "execution_count": 38,
   "id": "4c122d18",
   "metadata": {},
   "outputs": [
    {
     "name": "stdout",
     "output_type": "stream",
     "text": [
      "data-set: set_3\n",
      "Size:    5\n",
      "Average:     1.11\n",
      "Stand. dev:  0.21\n"
     ]
    }
   ],
   "source": [
    "sets[2].describe()"
   ]
  },
  {
   "cell_type": "markdown",
   "id": "b9f9cf1c",
   "metadata": {},
   "source": [
    "### An aside on compilation and optimization\n",
    "\n",
    "In addition to the *eval* and the *exec* functions, the function *compile* can also be used that prepares an *object* code from any legal python string; such object code can then be executed by using the function *exec*. For instance:"
   ]
  },
  {
   "cell_type": "code",
   "execution_count": 39,
   "id": "099c6b02",
   "metadata": {},
   "outputs": [
    {
     "name": "stdout",
     "output_type": "stream",
     "text": [
      "a,b=3,2\n",
      "print(a*b)\n",
      "6\n"
     ]
    }
   ],
   "source": [
    "code_str='a,b=3,2\\nprint(a*b)'\n",
    "print(code_str)\n",
    "\n",
    "code=compile(code_str, 'test', 'exec')\n",
    "exec(code)"
   ]
  },
  {
   "cell_type": "markdown",
   "id": "6a8ba243",
   "metadata": {},
   "source": [
    "A more useful and interesting feature is the possibility to compile and optimize code by using functions of the [Numba library](https://numba.readthedocs.io/en/stable/index.html): imagine to write a function to perform a sorting of data stored in an array:"
   ]
  },
  {
   "cell_type": "code",
   "execution_count": 40,
   "id": "7eea9d24",
   "metadata": {},
   "outputs": [],
   "source": [
    "def my_sort(data):\n",
    "\n",
    "    ds=np.copy(data)\n",
    "    ll=np.arange(ds.size)\n",
    "        \n",
    "    for ip in ll:\n",
    "        ll2=np.arange(ip+1, ds.size)\n",
    "        for jp in ll2:\n",
    "            if ds[ip] > ds[jp]:\n",
    "               ds[ip], ds[jp] = ds[jp], ds[ip]\n",
    "              \n",
    "    return ds"
   ]
  },
  {
   "cell_type": "markdown",
   "id": "0f79329f",
   "metadata": {},
   "source": [
    "To test the function, you can run it on a list of 500 random numbers in the ``` [0, 1] ``` range generated by means of the *random.uniform* function of numpy.  "
   ]
  },
  {
   "cell_type": "code",
   "execution_count": 41,
   "id": "a9ba20c0",
   "metadata": {},
   "outputs": [],
   "source": [
    "data=np.random.uniform(0, 1, 500)\n",
    "\n",
    "sorted_data=my_sort(data)"
   ]
  },
  {
   "cell_type": "markdown",
   "id": "cbc67136",
   "metadata": {},
   "source": [
    "The time required to do such sorting can be measured with the *%timeit magic*"
   ]
  },
  {
   "cell_type": "code",
   "execution_count": 42,
   "id": "224cc4f3",
   "metadata": {},
   "outputs": [
    {
     "name": "stdout",
     "output_type": "stream",
     "text": [
      "59 ms ± 181 µs per loop (mean ± std. dev. of 7 runs, 10 loops each)\n"
     ]
    }
   ],
   "source": [
    "time1 = %timeit -o my_sort(data)"
   ]
  },
  {
   "cell_type": "markdown",
   "id": "2d12b55c",
   "metadata": {},
   "source": [
    "Now, let's optimize the function by using the *decorator* *jit* of the Numba library (decorators are preceded by the symbol '@' and are written immediately before the function definition):"
   ]
  },
  {
   "cell_type": "code",
   "execution_count": 43,
   "id": "6baab1fd",
   "metadata": {},
   "outputs": [],
   "source": [
    "from numba import jit\n",
    "\n",
    "@jit(nopython=True)\n",
    "def my_sort(data):\n",
    "\n",
    "    ds=np.copy(data)\n",
    "    ll=np.arange(ds.size)\n",
    "        \n",
    "    for ip in ll:\n",
    "        ll2=np.arange(ip+1, ds.size)\n",
    "        for jp in ll2:\n",
    "            if ds[ip] > ds[jp]:\n",
    "               ds[ip], ds[jp] = ds[jp], ds[ip]\n",
    "              \n",
    "    return ds"
   ]
  },
  {
   "cell_type": "markdown",
   "id": "180a6fe4",
   "metadata": {},
   "source": [
    "Test the function by measuring the execution time:"
   ]
  },
  {
   "cell_type": "code",
   "execution_count": 44,
   "id": "4c534c8b",
   "metadata": {},
   "outputs": [
    {
     "name": "stdout",
     "output_type": "stream",
     "text": [
      "424 µs ± 24.7 µs per loop (mean ± std. dev. of 7 runs, 1 loop each)\n"
     ]
    }
   ],
   "source": [
    "time2 = %timeit -o my_sort(data)"
   ]
  },
  {
   "cell_type": "markdown",
   "id": "f9f7be38",
   "metadata": {
    "variables": {
     " int(time1.average/time2.average) ": "187"
    }
   },
   "source": [
    "The optimized version is much faster than the first version! "
   ]
  },
  {
   "cell_type": "markdown",
   "id": "4f2c5dd9",
   "metadata": {},
   "source": [
    "Note that the numpy function for sorting data is even much faster..."
   ]
  },
  {
   "cell_type": "code",
   "execution_count": 45,
   "id": "b655431f",
   "metadata": {},
   "outputs": [
    {
     "name": "stdout",
     "output_type": "stream",
     "text": [
      "6.07 µs ± 82.7 ns per loop (mean ± std. dev. of 7 runs, 100,000 loops each)\n"
     ]
    }
   ],
   "source": [
    "%timeit np.sort(data)"
   ]
  },
  {
   "cell_type": "markdown",
   "id": "25819d0f",
   "metadata": {},
   "source": [
    "### An example \n",
    "\n",
    "Imagine (as here it really the case) to have downloaded data from in INGV site, concerning earthquakes (time of occurence, location, magnitude, depth and a bunch of other information). Such data are organized in text files where columns are separated by the '|' character. A quick and nice way to import one of such files in our Python code, is by means of functions of the ***pandas*** library. "
   ]
  },
  {
   "cell_type": "code",
   "execution_count": 46,
   "id": "9c89bcdc",
   "metadata": {},
   "outputs": [],
   "source": [
    "import pandas as pd  # import the Pandas library with the alias 'pd'\n",
    "import numpy as np\n",
    "import matplotlib.pyplot as plt"
   ]
  },
  {
   "cell_type": "markdown",
   "id": "ea5c44ce",
   "metadata": {},
   "source": [
    "Here we load data for Sicilia (data refer to all the earthquake in 2021, having magnitude greater than 2): data are loaded in the Pandas *DataFrame* we call *data_sicilia*:"
   ]
  },
  {
   "cell_type": "code",
   "execution_count": 47,
   "id": "225c1103",
   "metadata": {},
   "outputs": [],
   "source": [
    "data_sicilia=pd.read_csv('data_files/earthq_sicilia.dat', sep='|')"
   ]
  },
  {
   "cell_type": "markdown",
   "id": "0d12ce75",
   "metadata": {},
   "source": [
    "The first 5 row of the datafile can be seen by:"
   ]
  },
  {
   "cell_type": "code",
   "execution_count": 48,
   "id": "cff13a86",
   "metadata": {},
   "outputs": [
    {
     "data": {
      "text/html": [
       "<div>\n",
       "<style scoped>\n",
       "    .dataframe tbody tr th:only-of-type {\n",
       "        vertical-align: middle;\n",
       "    }\n",
       "\n",
       "    .dataframe tbody tr th {\n",
       "        vertical-align: top;\n",
       "    }\n",
       "\n",
       "    .dataframe thead th {\n",
       "        text-align: right;\n",
       "    }\n",
       "</style>\n",
       "<table border=\"1\" class=\"dataframe\">\n",
       "  <thead>\n",
       "    <tr style=\"text-align: right;\">\n",
       "      <th></th>\n",
       "      <th>#EventID</th>\n",
       "      <th>Time</th>\n",
       "      <th>Latitude</th>\n",
       "      <th>Longitude</th>\n",
       "      <th>Depth/Km</th>\n",
       "      <th>Author</th>\n",
       "      <th>Catalog</th>\n",
       "      <th>Contributor</th>\n",
       "      <th>ContributorID</th>\n",
       "      <th>MagType</th>\n",
       "      <th>Magnitude</th>\n",
       "      <th>MagAuthor</th>\n",
       "      <th>EventLocationName</th>\n",
       "      <th>EventType</th>\n",
       "    </tr>\n",
       "  </thead>\n",
       "  <tbody>\n",
       "    <tr>\n",
       "      <th>0</th>\n",
       "      <td>25915561</td>\n",
       "      <td>2021-01-11T05:51:20.210000</td>\n",
       "      <td>37.7553</td>\n",
       "      <td>15.0423</td>\n",
       "      <td>10.4</td>\n",
       "      <td>BULLETIN-INGV</td>\n",
       "      <td>NaN</td>\n",
       "      <td>NaN</td>\n",
       "      <td>NaN</td>\n",
       "      <td>ML</td>\n",
       "      <td>2.1</td>\n",
       "      <td>--</td>\n",
       "      <td>7 km NW Milo (CT)</td>\n",
       "      <td>earthquake</td>\n",
       "    </tr>\n",
       "    <tr>\n",
       "      <th>1</th>\n",
       "      <td>25915591</td>\n",
       "      <td>2021-01-11T05:52:10.420000</td>\n",
       "      <td>37.7523</td>\n",
       "      <td>15.0515</td>\n",
       "      <td>9.3</td>\n",
       "      <td>BULLETIN-INGV</td>\n",
       "      <td>NaN</td>\n",
       "      <td>NaN</td>\n",
       "      <td>NaN</td>\n",
       "      <td>ML</td>\n",
       "      <td>2.1</td>\n",
       "      <td>--</td>\n",
       "      <td>7 km NW Milo (CT)</td>\n",
       "      <td>earthquake</td>\n",
       "    </tr>\n",
       "    <tr>\n",
       "      <th>2</th>\n",
       "      <td>25915751</td>\n",
       "      <td>2021-01-11T06:48:23.560000</td>\n",
       "      <td>37.7630</td>\n",
       "      <td>15.0642</td>\n",
       "      <td>7.7</td>\n",
       "      <td>BULLETIN-INGV</td>\n",
       "      <td>NaN</td>\n",
       "      <td>NaN</td>\n",
       "      <td>NaN</td>\n",
       "      <td>ML</td>\n",
       "      <td>2.0</td>\n",
       "      <td>--</td>\n",
       "      <td>6 km NW Milo (CT)</td>\n",
       "      <td>earthquake</td>\n",
       "    </tr>\n",
       "    <tr>\n",
       "      <th>3</th>\n",
       "      <td>25916921</td>\n",
       "      <td>2021-01-11T19:09:25.130000</td>\n",
       "      <td>37.3607</td>\n",
       "      <td>15.7095</td>\n",
       "      <td>26.2</td>\n",
       "      <td>BULLETIN-INGV</td>\n",
       "      <td>NaN</td>\n",
       "      <td>NaN</td>\n",
       "      <td>NaN</td>\n",
       "      <td>ML</td>\n",
       "      <td>2.1</td>\n",
       "      <td>--</td>\n",
       "      <td>Mar Ionio Meridionale (MARE)</td>\n",
       "      <td>earthquake</td>\n",
       "    </tr>\n",
       "    <tr>\n",
       "      <th>4</th>\n",
       "      <td>25917701</td>\n",
       "      <td>2021-01-12T03:31:26.190000</td>\n",
       "      <td>37.7497</td>\n",
       "      <td>15.0165</td>\n",
       "      <td>0.2</td>\n",
       "      <td>BULLETIN-INGV</td>\n",
       "      <td>NaN</td>\n",
       "      <td>NaN</td>\n",
       "      <td>NaN</td>\n",
       "      <td>ML</td>\n",
       "      <td>2.3</td>\n",
       "      <td>--</td>\n",
       "      <td>9 km W Milo (CT)</td>\n",
       "      <td>earthquake</td>\n",
       "    </tr>\n",
       "  </tbody>\n",
       "</table>\n",
       "</div>"
      ],
      "text/plain": [
       "   #EventID                        Time  Latitude  Longitude  Depth/Km  \\\n",
       "0  25915561  2021-01-11T05:51:20.210000   37.7553    15.0423      10.4   \n",
       "1  25915591  2021-01-11T05:52:10.420000   37.7523    15.0515       9.3   \n",
       "2  25915751  2021-01-11T06:48:23.560000   37.7630    15.0642       7.7   \n",
       "3  25916921  2021-01-11T19:09:25.130000   37.3607    15.7095      26.2   \n",
       "4  25917701  2021-01-12T03:31:26.190000   37.7497    15.0165       0.2   \n",
       "\n",
       "          Author  Catalog  Contributor  ContributorID MagType  Magnitude  \\\n",
       "0  BULLETIN-INGV      NaN          NaN            NaN      ML        2.1   \n",
       "1  BULLETIN-INGV      NaN          NaN            NaN      ML        2.1   \n",
       "2  BULLETIN-INGV      NaN          NaN            NaN      ML        2.0   \n",
       "3  BULLETIN-INGV      NaN          NaN            NaN      ML        2.1   \n",
       "4  BULLETIN-INGV      NaN          NaN            NaN      ML        2.3   \n",
       "\n",
       "  MagAuthor             EventLocationName   EventType  \n",
       "0        --             7 km NW Milo (CT)  earthquake  \n",
       "1        --             7 km NW Milo (CT)  earthquake  \n",
       "2        --             6 km NW Milo (CT)  earthquake  \n",
       "3        --  Mar Ionio Meridionale (MARE)  earthquake  \n",
       "4        --              9 km W Milo (CT)  earthquake  "
      ]
     },
     "execution_count": 48,
     "metadata": {},
     "output_type": "execute_result"
    }
   ],
   "source": [
    "data_sicilia.head()"
   ]
  },
  {
   "cell_type": "markdown",
   "id": "2bc2e32e",
   "metadata": {},
   "source": [
    "Now, image we are only interested in the magnitude of those earthquakes: we select the column 'Magnitude': "
   ]
  },
  {
   "cell_type": "code",
   "execution_count": 49,
   "id": "6778a83e",
   "metadata": {},
   "outputs": [],
   "source": [
    "sicilia_magnitude=data_sicilia['Magnitude']"
   ]
  },
  {
   "cell_type": "code",
   "execution_count": 50,
   "id": "e0498ee1",
   "metadata": {},
   "outputs": [
    {
     "data": {
      "text/plain": [
       "0      2.1\n",
       "1      2.1\n",
       "2      2.0\n",
       "3      2.1\n",
       "4      2.3\n",
       "      ... \n",
       "554    2.5\n",
       "555    2.3\n",
       "556    2.0\n",
       "557    2.1\n",
       "558    3.5\n",
       "Name: Magnitude, Length: 559, dtype: float64"
      ]
     },
     "execution_count": 50,
     "metadata": {},
     "output_type": "execute_result"
    }
   ],
   "source": [
    "sicilia_magnitude"
   ]
  },
  {
   "cell_type": "markdown",
   "id": "1290b6e5",
   "metadata": {},
   "source": [
    "Note the *type* of the objects *data_sicilia* and *sicilia_magnitude*):"
   ]
  },
  {
   "cell_type": "code",
   "execution_count": 51,
   "id": "2e3edb23",
   "metadata": {},
   "outputs": [
    {
     "data": {
      "text/plain": [
       "pandas.core.frame.DataFrame"
      ]
     },
     "execution_count": 51,
     "metadata": {},
     "output_type": "execute_result"
    }
   ],
   "source": [
    "type(data_sicilia)"
   ]
  },
  {
   "cell_type": "code",
   "execution_count": 52,
   "id": "b6711dd6",
   "metadata": {},
   "outputs": [
    {
     "data": {
      "text/plain": [
       "pandas.core.series.Series"
      ]
     },
     "execution_count": 52,
     "metadata": {},
     "output_type": "execute_result"
    }
   ],
   "source": [
    "type(sicilia_magnitude)"
   ]
  },
  {
   "cell_type": "markdown",
   "id": "90698681",
   "metadata": {},
   "source": [
    "We could get the average magnitude of the earthquakes in the file by using the *mean* method of the pandas data serie: "
   ]
  },
  {
   "cell_type": "code",
   "execution_count": 53,
   "id": "3804434b",
   "metadata": {},
   "outputs": [
    {
     "data": {
      "text/plain": [
       "2.3348837209302324"
      ]
     },
     "execution_count": 53,
     "metadata": {},
     "output_type": "execute_result"
    }
   ],
   "source": [
    "sicilia_magnitude.mean()"
   ]
  },
  {
   "cell_type": "markdown",
   "id": "b5e888dc",
   "metadata": {},
   "source": [
    "A simple histogram of the data can be viewed: "
   ]
  },
  {
   "cell_type": "code",
   "execution_count": 54,
   "id": "e960f2fa",
   "metadata": {},
   "outputs": [
    {
     "data": {
      "text/plain": [
       "<Axes: >"
      ]
     },
     "execution_count": 54,
     "metadata": {},
     "output_type": "execute_result"
    },
    {
     "data": {
      "image/png": "[encoded data removed]",
      "text/plain": [
       "<Figure size 640x480 with 1 Axes>"
      ]
     },
     "metadata": {},
     "output_type": "display_data"
    }
   ],
   "source": [
    "sicilia_magnitude.hist(bins=20)"
   ]
  },
  {
   "cell_type": "markdown",
   "id": "bc766cad",
   "metadata": {},
   "source": [
    "or embedding it in a *figure* making use of the *matplotlib* library (it gives you more freedom in putting axis labels having some size, etc...)  "
   ]
  },
  {
   "cell_type": "code",
   "execution_count": 55,
   "id": "715fca71",
   "metadata": {},
   "outputs": [
    {
     "data": {
      "image/png": "[encoded data removed]",
      "text/plain": [
       "<Figure size 640x480 with 1 Axes>"
      ]
     },
     "metadata": {},
     "output_type": "display_data"
    }
   ],
   "source": [
    "plt.figure()\n",
    "sicilia_magnitude.hist(bins=20)\n",
    "plt.xlabel('Magnitude', fontsize=16)\n",
    "plt.show()"
   ]
  },
  {
   "cell_type": "markdown",
   "id": "33bc7f3e",
   "metadata": {},
   "source": [
    "We can transform thi DataSerie in a numpy array:"
   ]
  },
  {
   "cell_type": "code",
   "execution_count": 56,
   "id": "705eb1eb",
   "metadata": {},
   "outputs": [],
   "source": [
    "sicilia_m_list=np.array(sicilia_magnitude)"
   ]
  },
  {
   "cell_type": "code",
   "execution_count": 57,
   "id": "45d9ee7b",
   "metadata": {},
   "outputs": [
    {
     "data": {
      "text/plain": [
       "array([2.1, 2.1, 2. , 2.1, 2.3, 2.1, 3.5, 2.4, 2.3, 2.3, 2.2, 2.3, 2.3,\n",
       "       2.1, 2.4, 3.1, 3.3, 2.5, 3.1, 2.6, 3. , 2.4, 2.3, 2.3, 2.3, 2. ,\n",
       "       2.4, 2.4, 2.4, 2.6, 2.2, 2.4, 2. , 2.6, 2. , 2.5, 2.1, 2.1, 2.4,\n",
       "       2.4, 2.1, 2.4, 2.4, 2.1, 2.1, 2.2, 2.3, 2.2, 2.5, 2. , 2.1, 2.1,\n",
       "       2.3, 2.1, 2.4, 2.3, 2.3, 2.2, 2.7, 2.2, 2.1, 2.1, 2.2, 2.2, 2.7,\n",
       "       2.3, 2. , 2.2, 2.5, 2.2, 2.1, 2.2, 2.1, 2. , 2.2, 2.5, 2.3, 2. ,\n",
       "       2.6, 2.5, 2.2, 2.3, 2.2, 2.2, 2.3, 2.4, 2.3, 2.4, 2.2, 2.5, 2.2,\n",
       "       2.3, 2.2, 2.4, 2.4, 2.2, 2.1, 2.9, 2.2, 2.2, 2.1, 2.1, 2.4, 2. ,\n",
       "       2. , 2.7, 2.3, 2.1, 2.2, 2. , 2.4, 2.2, 2.5, 2.3, 2.5, 2.3, 2.2,\n",
       "       2.1, 2.7, 2.2, 2. , 2.9, 3.5, 2.4, 2.1, 2.4, 2.1, 3.2, 2.6, 2.2,\n",
       "       2.5, 2.5, 3.1, 2.9, 2.4, 2.6, 3. , 2.5, 2. , 2. , 2.2, 2.2, 2.6,\n",
       "       2. , 2.6, 2.1, 2.8, 2.3, 2.1, 2.2, 2.3, 2.3, 2. , 2.4, 2. , 2.1,\n",
       "       2.5, 2.1, 2. , 2.1, 3.4, 2.4, 2.6, 2.2, 2.4, 3.4, 2.2, 2.2, 2.5,\n",
       "       2. , 2.3, 2. , 2. , 2. , 2.3, 2.6, 2.1, 3. , 2. , 2.2, 2.1, 2.1,\n",
       "       2.7, 2.6, 2.1, 2.6, 2.2, 2.1, 2. , 2. , 2. , 2.1, 2. , 2. , 2.4,\n",
       "       2.2, 2. , 2.3, 2. , 2. , 2.3, 2.2, 2.2, 2. , 2. , 2.7, 2.3, 2.1,\n",
       "       2.1, 2.2, 2.5, 2. , 2. , 2.1, 2.4, 2.5, 2.9, 2.6, 2.1, 2.1, 2.1,\n",
       "       2.1, 2.5, 2. , 2.3, 2.4, 2.7, 2.4, 2. , 2. , 2.5, 2. , 2.3, 2.4,\n",
       "       2.2, 2.5, 2.4, 2.1, 2. , 2.8, 2.5, 2.2, 2. , 2.3, 2. , 2. , 2. ,\n",
       "       2.2, 2.2, 2. , 2. , 2.1, 2.4, 2. , 2. , 2.1, 2.1, 2. , 2.3, 2. ,\n",
       "       2.4, 2.3, 2.3, 2.1, 2.3, 2. , 2.1, 2.2, 2. , 2.3, 2.4, 2.1, 2.3,\n",
       "       3. , 2.1, 2.1, 2. , 2.1, 2.1, 2.2, 2.5, 2. , 2. , 3. , 2.4, 3.1,\n",
       "       2.4, 2. , 2.3, 2.4, 2.1, 2.5, 2. , 2.2, 2. , 2.4, 2. , 2.1, 2.2,\n",
       "       2.1, 2.1, 2.6, 2. , 2.2, 2.1, 2. , 2.3, 2.1, 2. , 2. , 2.9, 2.9,\n",
       "       2.6, 2.1, 2.3, 2. , 2.4, 2.3, 2.9, 2.2, 2.4, 2.9, 2. , 2.2, 2. ,\n",
       "       2. , 2.3, 2.3, 2.1, 3.1, 2.2, 2.2, 2.4, 2. , 2.2, 2.1, 2. , 2. ,\n",
       "       2.3, 2. , 2.3, 2. , 2. , 2.1, 2. , 2. , 2.3, 2.1, 2.1, 2.7, 2.5,\n",
       "       2. , 2.1, 3.2, 2.2, 2.2, 2.4, 2.1, 2. , 2.3, 2.1, 2. , 2.2, 2.1,\n",
       "       2.3, 2.3, 2.3, 2. , 2.1, 2.5, 3. , 2. , 2.4, 3.1, 2.4, 2. , 2.1,\n",
       "       2.1, 2.1, 2.3, 2.3, 2.1, 2.9, 3.4, 2.4, 2.9, 2.7, 2.3, 2.5, 2.7,\n",
       "       2.2, 2.2, 2.3, 2.2, 2.3, 2.1, 2.3, 2.4, 2.3, 2.4, 2.3, 2.3, 2.3,\n",
       "       2.8, 2.1, 2. , 2.1, 2.2, 2.3, 2.1, 2.7, 2.3, 2. , 2. , 2.3, 2.7,\n",
       "       2.2, 2.5, 2.7, 2.5, 4.3, 2. , 2.1, 2.4, 3.7, 2. , 3.1, 2.5, 2.7,\n",
       "       2.1, 2.6, 2.2, 2.7, 2.3, 2.3, 3. , 2. , 2. , 2.6, 3.1, 2.2, 2. ,\n",
       "       2.1, 3. , 3.4, 2.1, 3.4, 2. , 2. , 2.6, 2.3, 2.3, 2.5, 2.7, 2.1,\n",
       "       2. , 2.3, 2.9, 2. , 2. , 2.3, 2.1, 2.3, 2.2, 2.8, 2.7, 2.2, 2.3,\n",
       "       2.6, 2.3, 2.3, 2. , 3.2, 2.2, 2. , 2.2, 2.2, 2.3, 3.1, 3.4, 2.3,\n",
       "       2.8, 2.5, 2.4, 2.9, 2.8, 2.6, 2. , 2.4, 2.1, 2.6, 2.1, 2.1, 2.5,\n",
       "       2. , 2. , 2.1, 2.5, 2.5, 2.4, 2. , 2.9, 2.9, 2.8, 2.8, 2.5, 2.8,\n",
       "       2.2, 2.2, 2.1, 2. , 2.4, 2.3, 2.3, 2.2, 2.2, 2.4, 2.4, 3.5, 2. ,\n",
       "       2.7, 2.1, 2.4, 2.9, 3.3, 2.4, 2.9, 4.3, 2.8, 2.2, 2.8, 2.6, 2.3,\n",
       "       2.2, 2.8, 2.1, 2.3, 2.8, 2. , 3.1, 2.1, 3.6, 2.1, 2.1, 2.4, 2.1,\n",
       "       2.2, 2. , 2.1, 2. , 2.1, 2.1, 2.2, 2. , 2.5, 2.3, 2. , 2.1, 3.5])"
      ]
     },
     "execution_count": 57,
     "metadata": {},
     "output_type": "execute_result"
    }
   ],
   "source": [
    "sicilia_m_list"
   ]
  },
  {
   "cell_type": "markdown",
   "id": "94f77ed7",
   "metadata": {},
   "source": [
    "Now, do the same with other files referring to other areas in Italy:"
   ]
  },
  {
   "cell_type": "code",
   "execution_count": 58,
   "id": "830d1028",
   "metadata": {},
   "outputs": [],
   "source": [
    "data_north=pd.read_csv('data_files/earthq_north.dat', sep='|')\n",
    "data_central=pd.read_csv('data_files/earthq_central.dat', sep='|')\n",
    "data_emilia=pd.read_csv('data_files/earthq_emilia.dat', sep='|')\n",
    "\n",
    "north_magnitude=data_north['Magnitude']\n",
    "central_magnitude=data_central['Magnitude']\n",
    "emilia_magnitude=data_emilia['Magnitude']\n",
    "\n",
    "north_m_list=np.array(north_magnitude)\n",
    "central_m_list=np.array(central_magnitude)\n",
    "emilia_m_list=np.array(emilia_magnitude)"
   ]
  },
  {
   "cell_type": "markdown",
   "id": "d0be584b",
   "metadata": {},
   "source": [
    "Now, pack everything in the array *sets*:"
   ]
  },
  {
   "cell_type": "code",
   "execution_count": 59,
   "id": "13151834",
   "metadata": {},
   "outputs": [],
   "source": [
    "set_name=['North', 'Emilia', 'Central', 'Sicilia']\n",
    "x=[north_m_list, emilia_m_list, central_m_list, sicilia_m_list] \n",
    "\n",
    "set_list=['set1', 'set2', 'set3', 'set4']\n",
    "set_name=['set_1', 'set_2', 'set_3', 'set_4']\n",
    "\n",
    "for iset, ix, iname in zip(set_list, x, set_name):\n",
    "    exec(iset + '= data_class(iname, ix)')\n",
    "    \n",
    "l_set=list(eval(iset) for iset in set_list)\n",
    "sets=np.array(l_set, dtype='object')"
   ]
  },
  {
   "cell_type": "code",
   "execution_count": 60,
   "id": "b1757006",
   "metadata": {},
   "outputs": [
    {
     "name": "stdout",
     "output_type": "stream",
     "text": [
      "data-set: set_1\n",
      "Size:  131\n",
      "Average:     2.36\n",
      "Stand. dev:  0.39\n",
      "\n",
      "data-set: set_2\n",
      "Size:  144\n",
      "Average:     2.33\n",
      "Stand. dev:  0.37\n",
      "\n",
      "data-set: set_3\n",
      "Size:  367\n",
      "Average:     2.29\n",
      "Stand. dev:  0.34\n",
      "\n",
      "data-set: set_4\n",
      "Size:  559\n",
      "Average:     2.33\n",
      "Stand. dev:  0.35\n",
      "\n"
     ]
    }
   ],
   "source": [
    "for iset in range(4):\n",
    "    sets[iset].describe()\n",
    "    print(\"\")"
   ]
  }
 ],
 "metadata": {
  "kernelspec": {
   "display_name": "Python 3 (ipykernel)",
   "language": "python",
   "name": "python3"
  },
  "language_info": {
   "codemirror_mode": {
    "name": "ipython",
    "version": 3
   },
   "file_extension": ".py",
   "mimetype": "text/x-python",
   "name": "python",
   "nbconvert_exporter": "python",
   "pygments_lexer": "ipython3",
   "version": "3.11.3"
  },
  "latex_envs": {
   "LaTeX_envs_menu_present": true,
   "autoclose": false,
   "autocomplete": true,
   "bibliofile": "biblio.bib",
   "cite_by": "apalike",
   "current_citInitial": 1,
   "eqLabelWithNumbers": true,
   "eqNumInitial": 1,
   "hotkeys": {
    "equation": "Ctrl-E",
    "itemize": "Ctrl-I"
   },
   "labels_anchors": false,
   "latex_user_defs": false,
   "report_style_numbering": false,
   "user_envs_cfg": false
  }
 },
 "nbformat": 4,
 "nbformat_minor": 5
}
