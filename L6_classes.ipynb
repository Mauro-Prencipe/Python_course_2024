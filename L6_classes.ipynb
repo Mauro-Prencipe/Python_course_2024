{
 "cells": [
  {
   "cell_type": "markdown",
   "id": "29982e32",
   "metadata": {},
   "source": [
    "### Classes and Object Oriented Programming (OOP)"
   ]
  },
  {
   "cell_type": "markdown",
   "id": "29e85f20",
   "metadata": {},
   "source": [
    "Imagine that you want to store some *fundamental constant* in a program, that can be accessed at the global level, without the risk to shadow or destroy them, by redefinition, in some other part of the program.\n",
    "\n",
    "You can do that by build a specific *class* that stores those numbers: "
   ]
  },
  {
   "cell_type": "code",
   "execution_count": null,
   "id": "abdb3a4b",
   "metadata": {},
   "outputs": [],
   "source": [
    "class constant_class():\n",
    "    def __init__(self):\n",
    "       self.h=6.62607e-34      # Planck\n",
    "       self.k=1.38065e-23      # Boltzmann\n",
    "       self.avo=6.02214e23     # Avogadro\n",
    "       self.R=self.avo*self.k  # Gas constant"
   ]
  },
  {
   "cell_type": "markdown",
   "id": "b2f88133",
   "metadata": {},
   "source": [
    "We defined the *class* *constant_class*. The *class* definition, at this level, is very much like a *function definition* (with an empty list of arguments, for now). \n",
    "\n",
    "Inside the class, we defined an ``` __init__ ``` function, with a strange argument *self* (*self* is a label that refers to the definition of the class, and that will be substituted by the label specifying each single *instance* of the class itself. \n",
    "\n",
    "The body of *init* consists of the assignment of our fundamental constants (in the standard SI units), each one preceded by the label *self*. Our constants will be the *attributes* of the class.\n",
    "\n",
    "To use the class, we first have to create an *instance* of it. We call *fc* such instance:"
   ]
  },
  {
   "cell_type": "code",
   "execution_count": null,
   "id": "38fca6bc",
   "metadata": {},
   "outputs": [],
   "source": [
    "fc=constant_class()"
   ]
  },
  {
   "cell_type": "markdown",
   "id": "9414d498",
   "metadata": {},
   "source": [
    "Now, the retrieve the Avogadro number, you just have to write:"
   ]
  },
  {
   "cell_type": "code",
   "execution_count": null,
   "id": "69f744ad",
   "metadata": {},
   "outputs": [],
   "source": [
    "fc.avo"
   ]
  },
  {
   "cell_type": "markdown",
   "id": "f903c1d9",
   "metadata": {},
   "source": [
    "It works fine in functions, too:"
   ]
  },
  {
   "cell_type": "code",
   "execution_count": null,
   "id": "c9683bd0",
   "metadata": {},
   "outputs": [],
   "source": [
    "def func():\n",
    "    print(\"The avogadro number is \", fc.avo)\n",
    "    \n",
    "func()"
   ]
  },
  {
   "cell_type": "markdown",
   "id": "9da74d21",
   "metadata": {},
   "source": [
    "To get the value of some attribute of the class, it is a ***very good practice*** to define a function within the class that returns the value of the wanted attribute. A function within a class is called *method*:"
   ]
  },
  {
   "cell_type": "code",
   "execution_count": null,
   "id": "e508ca85",
   "metadata": {},
   "outputs": [],
   "source": [
    "class constant_class():\n",
    "    def __init__(self):\n",
    "       self.h=6.62607e-34      # Planck\n",
    "       self.k=1.38065e-23      # Boltzmann\n",
    "       self.avo=6.02214e23     # Avogadro\n",
    "       self.R=self.avo*self.k  # Gas constant\n",
    "        \n",
    "    def get_avogadro(self):\n",
    "        return self.avo\n",
    "    \n",
    "    def get_boltzmann(self):\n",
    "        return self.k\n",
    "    \n",
    "    def get_planck(self):\n",
    "        return self.h\n",
    "    \n",
    "    def get_gas(self):\n",
    "        return self.R\n",
    "    \n",
    "fc=constant_class()"
   ]
  },
  {
   "cell_type": "markdown",
   "id": "399a7c6f",
   "metadata": {},
   "source": [
    "Now, wanting for instance the value of the gas constant, you can use the method *get_gas*:"
   ]
  },
  {
   "cell_type": "code",
   "execution_count": null,
   "id": "e8f4121b",
   "metadata": {},
   "outputs": [],
   "source": [
    "fc.get_gas()"
   ]
  },
  {
   "cell_type": "markdown",
   "id": "03a08822",
   "metadata": {},
   "source": [
    "You could also define a method *get_constant* that requires the name of the constant to be retrieved:"
   ]
  },
  {
   "cell_type": "code",
   "execution_count": null,
   "id": "1061aef8",
   "metadata": {},
   "outputs": [],
   "source": [
    "class constant_class():\n",
    "    def __init__(self):\n",
    "       self.h=6.62607e-34      # Planck\n",
    "       self.k=1.38065e-23      # Boltzmann\n",
    "       self.avo=6.02214e23     # Avogadro\n",
    "       self.R=self.avo*self.k  # Gas constant\n",
    "        \n",
    "    def get_avogadro(self):\n",
    "        return self.avo\n",
    "    \n",
    "    def get_boltzmann(self):\n",
    "        return self.k\n",
    "    \n",
    "    def get_planck(self):\n",
    "        return self.h\n",
    "    \n",
    "    def get_gas(self):\n",
    "        return self.R\n",
    "    \n",
    "    def get_constant(self, const):      \n",
    "        if const=='avogadro':\n",
    "            return self.avo\n",
    "        elif const=='boltzmann':\n",
    "            return self.k\n",
    "        elif const=='planck':\n",
    "            return self.h\n",
    "        elif const=='gas':\n",
    "            return self.R\n",
    "        else:\n",
    "            print(\"Unknown constant \", const)\n",
    "              \n",
    "    \n",
    "fc=constant_class()"
   ]
  },
  {
   "cell_type": "code",
   "execution_count": null,
   "id": "2d08716b",
   "metadata": {},
   "outputs": [],
   "source": [
    "fc.get_constant('gas')"
   ]
  },
  {
   "cell_type": "markdown",
   "id": "14b58567",
   "metadata": {},
   "source": [
    "You can implement the method *get_constant* even by using a *match/case* construct (Python version >= 3.10):"
   ]
  },
  {
   "cell_type": "code",
   "execution_count": null,
   "id": "041c73e3",
   "metadata": {},
   "outputs": [],
   "source": [
    "class constant_class():\n",
    "    def __init__(self):\n",
    "       self.h=6.62607e-34      # Planck\n",
    "       self.k=1.38065e-23      # Boltzmann\n",
    "       self.avo=6.02214e23     # Avogadro\n",
    "       self.R=self.avo*self.k  # Gas constant\n",
    "        \n",
    "    def get_avogadro(self):\n",
    "        return self.avo\n",
    "    \n",
    "    def get_boltzmann(self):\n",
    "        return self.k\n",
    "    \n",
    "    def get_planck(self):\n",
    "        return self.h\n",
    "    \n",
    "    def get_gas(self):\n",
    "        return self.R\n",
    "    \n",
    "    def get_constant(self, const):\n",
    "        match const:\n",
    "            case 'avogadro':\n",
    "                return self.avo\n",
    "            case 'boltzmann':\n",
    "                return self.k\n",
    "            case 'planck':\n",
    "                return self.h\n",
    "            case 'gas':\n",
    "                return self.R\n",
    "            case other:\n",
    "                print(\"Unknown constant \", const)\n",
    "              \n",
    "    \n",
    "fc=constant_class()"
   ]
  },
  {
   "cell_type": "code",
   "execution_count": null,
   "id": "b1c9d1e6",
   "metadata": {},
   "outputs": [],
   "source": [
    "fc.get_constant('boltzmann')"
   ]
  },
  {
   "cell_type": "markdown",
   "id": "060107ba",
   "metadata": {},
   "source": [
    "For instance:"
   ]
  },
  {
   "cell_type": "markdown",
   "id": "e8f9a490",
   "metadata": {},
   "source": [
    "Now, those constant are stored in SI units... but you might want them in some different units! For instance, the gas constant is stored in $m^3 Pa\\ /\\ mol K$, and you may want it in $\\ell atm\\ / mole K$. \n",
    "\n",
    "You need a conversion factor.\n",
    "\n",
    "So: \n",
    "\n",
    "- start by defining, in *init*, the variable *self.R_unit = 1.* This is the factor used to convert the value of your constant;\n",
    "- modify each function returning the value of *R* (*R* multiplied by such conversion factor);\n",
    "- define the function *set_unit* that *asks* for the constant and the type of units wanted."
   ]
  },
  {
   "cell_type": "code",
   "execution_count": null,
   "id": "cffaba10",
   "metadata": {},
   "outputs": [],
   "source": [
    "class constant_class():\n",
    "    def __init__(self):\n",
    "       self.h=6.62607e-34      # Planck\n",
    "       self.k=1.38065e-23      # Boltzmann\n",
    "       self.avo=6.02214e23     # Avogadro\n",
    "       self.R=self.avo*self.k  # Gas constant\n",
    "       \n",
    "       self.R_unit=1.\n",
    "        \n",
    "    def get_avogadro(self):\n",
    "        return self.avo\n",
    "    \n",
    "    def get_boltzmann(self):\n",
    "        return self.k\n",
    "    \n",
    "    def get_planck(self):\n",
    "        return self.h\n",
    "    \n",
    "    def get_gas(self):\n",
    "        return self.R*self.R_unit\n",
    "    \n",
    "    def get_constant(self, const):      \n",
    "        if const=='avogadro':\n",
    "            return self.avo\n",
    "        elif const=='boltzmann':\n",
    "            return self.k\n",
    "        elif const=='planck':\n",
    "            return self.h\n",
    "        elif const=='gas':\n",
    "            return self.R*self.R_unit\n",
    "        else:\n",
    "            print(\"Unknown constant \", const)           \n",
    "            \n",
    "    def set_units(self, const, system='SI'):\n",
    "        if const=='gas':\n",
    "           if system =='SI': \n",
    "              self.R_unit=1.\n",
    "           elif system == 'litre_atm':\n",
    "              self.R_unit = 1e3/101325                 \n",
    "              \n",
    "    \n",
    "fc=constant_class()"
   ]
  },
  {
   "cell_type": "markdown",
   "id": "cf3d31f6",
   "metadata": {},
   "source": [
    "Now, ask for *R*:"
   ]
  },
  {
   "cell_type": "code",
   "execution_count": null,
   "id": "55ee1072",
   "metadata": {},
   "outputs": [],
   "source": [
    "fc.get_gas()"
   ]
  },
  {
   "cell_type": "markdown",
   "id": "8d7dbd67",
   "metadata": {},
   "source": [
    "Change units and ask for the constant again:"
   ]
  },
  {
   "cell_type": "code",
   "execution_count": null,
   "id": "d6c0d723",
   "metadata": {},
   "outputs": [],
   "source": [
    "fc.set_units('gas', system='litre_atm')\n",
    "fc.get_gas()"
   ]
  },
  {
   "cell_type": "code",
   "execution_count": null,
   "id": "58db90c2",
   "metadata": {},
   "outputs": [],
   "source": [
    "fc.get_gas()"
   ]
  },
  {
   "cell_type": "markdown",
   "id": "1cf46752",
   "metadata": {},
   "source": [
    "Note that if you directly access the attribute *R* of the class, instead of using the method *get_gas*, you get the value in SI units:"
   ]
  },
  {
   "cell_type": "code",
   "execution_count": null,
   "id": "64f780b1",
   "metadata": {},
   "outputs": [],
   "source": [
    "fc.R"
   ]
  },
  {
   "cell_type": "markdown",
   "id": "7c0eb37b",
   "metadata": {},
   "source": [
    "Of course there can be infinite ways to change the behaviour of the class, by adding other methods of modifying the existing ones. For instance, analyze this:"
   ]
  },
  {
   "cell_type": "code",
   "execution_count": null,
   "id": "a0955b93",
   "metadata": {},
   "outputs": [],
   "source": [
    "class constant_class():\n",
    "    def __init__(self):\n",
    "       self.h=6.62607e-34      # Planck\n",
    "       self.k=1.38065e-23      # Boltzmann\n",
    "       self.avo=6.02214e23     # Avogadro\n",
    "       self.R=self.avo*self.k  # Gas constant\n",
    "       \n",
    "       self.R_unit=1.\n",
    "        \n",
    "    def get_avogadro(self):\n",
    "        return self.avo\n",
    "    \n",
    "    def get_boltzmann(self):\n",
    "        return self.k\n",
    "    \n",
    "    def get_planck(self):\n",
    "        return self.h\n",
    "    \n",
    "    def get_gas(self, units='default'):\n",
    "        if units=='default':\n",
    "           return self.R*self.R_unit\n",
    "        else:\n",
    "           self.set_units(const='gas', units=units)\n",
    "           R_value=self.R*self.R_unit\n",
    "           self.set_units(const='gas')\n",
    "           return R_value\n",
    "    \n",
    "    def get_constant(self, const, units='SI'):      \n",
    "        if const=='avogadro':\n",
    "            return self.avo\n",
    "        elif const=='boltzmann':\n",
    "            return self.k\n",
    "        elif const=='planck':\n",
    "            return self.h\n",
    "        elif const=='gas':\n",
    "            return self.get_gas(units)\n",
    "        else:\n",
    "            print(\"Unknown constant \", const)           \n",
    "            \n",
    "    def set_units(self, const, units='SI'):\n",
    "        if const=='gas':\n",
    "           if units =='SI': \n",
    "              self.R_unit=1.\n",
    "           elif units == 'litre_atm':\n",
    "              self.R_unit = 1e3/101325                 \n",
    "              \n",
    "    \n",
    "fc=constant_class()"
   ]
  },
  {
   "cell_type": "code",
   "execution_count": null,
   "id": "89ca9c95",
   "metadata": {},
   "outputs": [],
   "source": [
    "print(fc.get_gas())\n",
    "print(fc.get_gas(units='litre_atm'))\n",
    "print(fc.get_constant('gas'))\n",
    "print(fc.get_constant('gas', units='litre_atm'))"
   ]
  },
  {
   "cell_type": "markdown",
   "id": "d477a35a",
   "metadata": {},
   "source": [
    "With this implementation you can also change the default conversion factor for the gas constant:"
   ]
  },
  {
   "cell_type": "code",
   "execution_count": null,
   "id": "b51d15c0",
   "metadata": {},
   "outputs": [],
   "source": [
    "fc.set_units(const='gas', units='litre_atm')\n",
    "fc.get_gas()"
   ]
  },
  {
   "cell_type": "markdown",
   "id": "3dd51214",
   "metadata": {},
   "source": [
    "Never forget to *document* your class and to extensively test it! "
   ]
  },
  {
   "cell_type": "markdown",
   "id": "608763e8",
   "metadata": {},
   "source": [
    "Classes can be used to store variables at the global level, that can be modified within functions without the need to use *global* declaration, better by using the appropriate methods provided for the purpose. This is a *good programming practice* that can avoid a lot of mistakes.  "
   ]
  },
  {
   "cell_type": "code",
   "execution_count": null,
   "id": "72ff726e",
   "metadata": {},
   "outputs": [],
   "source": [
    "class parameter_class():\n",
    "      def __init__(self, val=1):\n",
    "          self.par=val\n",
    "      def set_value(self, val):\n",
    "          self.par=val\n",
    "      def get_value(self):\n",
    "          return self.par\n",
    "        \n",
    "par=parameter_class(val=2)\n",
    "\n",
    "print(\"value of par: \", par.par)"
   ]
  },
  {
   "cell_type": "code",
   "execution_count": null,
   "id": "39ed8de0",
   "metadata": {},
   "outputs": [],
   "source": [
    "def func():\n",
    "    par.set_value(5)\n",
    "    print(\"Inside func:           \", par.get_value())\n",
    "    \n",
    "print(\"Before calling func:   \", par.get_value())\n",
    "func()\n",
    "print(\"After func was called: \", par.get_value())"
   ]
  },
  {
   "cell_type": "markdown",
   "id": "6f2da32b",
   "metadata": {},
   "source": [
    "Now, reconsider the factorial function that was implemented by using a *class*:"
   ]
  },
  {
   "cell_type": "code",
   "execution_count": null,
   "id": "49257e97",
   "metadata": {},
   "outputs": [],
   "source": [
    "class factorial_class():\n",
    "    def __init__(self):\n",
    "        self.fact=1\n",
    "        \n",
    "    def set_init(self):\n",
    "        self.fact=1\n",
    "        \n",
    "    def factorial(self, n, prn=False):\n",
    "        self.set_init()\n",
    "        self.fact_rec(n)\n",
    "        if prn:\n",
    "           print(\"The factorial of %3i  is %6i\" % (n, self.fact))\n",
    "        else:\n",
    "           return self.fact\n",
    "    \n",
    "    def fact_rec(self, b):            # <--- recursive function\n",
    "        self.fact=b*self.fact\n",
    "        b=b-1\n",
    "        if b == 1:\n",
    "           return \n",
    "        else:\n",
    "           self.fact_rec(b)\n",
    "    \n",
    "ff=factorial_class()"
   ]
  },
  {
   "cell_type": "code",
   "execution_count": null,
   "id": "f692a700",
   "metadata": {},
   "outputs": [],
   "source": [
    "ff.factorial(8, prn=True)"
   ]
  },
  {
   "cell_type": "markdown",
   "id": "8af961e5",
   "metadata": {},
   "source": [
    "### Inheritance\n",
    "\n",
    "Classes can be defined so that they inherit attributes and/or methods from *super-classes*.\n",
    "\n",
    "Here there a very simple example of a *method_class* that only contains a method for computing the product of two scalars; then a *data_class* is defined so that it inherits that unique method from *method_class* and, in addition, defines and/or set two scalars: "
   ]
  },
  {
   "cell_type": "code",
   "execution_count": null,
   "id": "1fdb60fa",
   "metadata": {},
   "outputs": [],
   "source": [
    "class method_class():\n",
    "\n",
    "    def compute(self):\n",
    "        return self.x*self.y\n",
    "    \n",
    "class data_class(method_class):\n",
    "      def __init__(self, xini, yini):\n",
    "            self.x=xini\n",
    "            self.y=yini\n",
    "      def set_x(self, x):\n",
    "          self.x=x\n",
    "      def set_y(self, y):\n",
    "          self.y=y\n",
    "    "
   ]
  },
  {
   "cell_type": "markdown",
   "id": "0e2c851a",
   "metadata": {},
   "source": [
    "Two instances *may_data_1* and *my_data_2* of the *data_class* class are defined, having different default values of those two scalars: "
   ]
  },
  {
   "cell_type": "code",
   "execution_count": null,
   "id": "5bb01cdb",
   "metadata": {},
   "outputs": [],
   "source": [
    "my_data_1=data_class(1., 2.)\n",
    "my_data_2=data_class(3., 4.)"
   ]
  },
  {
   "cell_type": "markdown",
   "id": "336e2369",
   "metadata": {},
   "source": [
    "To see how to use it, have a look at the following examples:"
   ]
  },
  {
   "cell_type": "code",
   "execution_count": null,
   "id": "58905bef",
   "metadata": {},
   "outputs": [],
   "source": [
    "my_data_1.compute()"
   ]
  },
  {
   "cell_type": "code",
   "execution_count": null,
   "id": "86b128c3",
   "metadata": {},
   "outputs": [],
   "source": [
    "my_data_2.compute()"
   ]
  },
  {
   "cell_type": "code",
   "execution_count": null,
   "id": "9b02d2e3",
   "metadata": {},
   "outputs": [],
   "source": [
    "my_data_1.set_x(5.)\n",
    "print(my_data_1.x)\n",
    "print(my_data_1.compute())"
   ]
  },
  {
   "cell_type": "markdown",
   "id": "e0229d43",
   "metadata": {},
   "source": [
    "###  Exercise:\n",
    "\n",
    "By using inheritance, code a class system that computes average and standard deviation of a dataset, each dataset being a different instance of a data_class."
   ]
  },
  {
   "cell_type": "code",
   "execution_count": null,
   "id": "9c84f257",
   "metadata": {},
   "outputs": [],
   "source": [
    "class stat_class():\n",
    "      \n",
    "      def set_size(self):\n",
    "          self.size=len(self.data)\n",
    "          return self.size\n",
    "        \n",
    "      def average(self):\n",
    "          ave = 0.\n",
    "          size = self.set_size()\n",
    "          self.size=size\n",
    "          for ix in self.data:\n",
    "              ave=ave+ix\n",
    "          ave=ave/size\n",
    "          self.ave=ave\n",
    "          self.flag=True\n",
    "          return ave\n",
    "        \n",
    "      def standard_deviation(self, force=True):\n",
    "          if (not self.flag) or (self.flag and force):\n",
    "             ave=self.average() \n",
    "            \n",
    "          ave=self.ave\n",
    "          size=self.size\n",
    "          std=0.\n",
    "          for ix in self.data:\n",
    "              std=std+(ix-ave)**2\n",
    "                \n",
    "          std=(std/(size-1))**0.5\n",
    "          self.std=std\n",
    "          return std\n",
    "            \n",
    "      def describe(self):\n",
    "          if not self.flag:\n",
    "             self.average()\n",
    "             self.standard_deviation()\n",
    "                \n",
    "          print(\"data-set: %s\" % self.name)\n",
    "          print(\"Size: %4i\" % self.size)\n",
    "          print(\"Average:    %5.2f\" % self.ave)\n",
    "          print(\"Stand. dev: %5.2f\" % self.std)\n",
    "          \n",
    "            \n",
    "class data_class(stat_class):\n",
    "    def __init__(self, name='default set', x=[0., 0., 0.]):\n",
    "        self.data=x\n",
    "        self.name=name\n",
    "        self.ave=0.\n",
    "        self.std=0.\n",
    "        self.flag=False\n",
    "    def set_data(self, xlist):\n",
    "        self.data=xlist\n",
    "        self.flag=False\n",
    "        \n",
    "x1=[3., 4., 6.]\n",
    "x2=[1., 0., 6., 7., 10.]\n",
    "set_1=data_class('set_1', x1)\n",
    "set_2=data_class('set_2', x2)"
   ]
  },
  {
   "cell_type": "code",
   "execution_count": null,
   "id": "7bf7fc09",
   "metadata": {},
   "outputs": [],
   "source": [
    "set_1.describe()"
   ]
  },
  {
   "cell_type": "markdown",
   "id": "906d0811",
   "metadata": {},
   "source": [
    "set_2.describe()"
   ]
  },
  {
   "cell_type": "code",
   "execution_count": null,
   "id": "1caa36eb",
   "metadata": {},
   "outputs": [],
   "source": [
    "set_2.describe()"
   ]
  },
  {
   "cell_type": "code",
   "execution_count": null,
   "id": "d99cd5f3",
   "metadata": {},
   "outputs": [],
   "source": [
    "set_1.set_data([1.0, 1.5, 1.2, 0.8, 0.95])\n",
    "set_1.describe()"
   ]
  },
  {
   "cell_type": "markdown",
   "id": "9f7591ef",
   "metadata": {},
   "source": [
    "Also, it is possible to define arrays of *object* like the one (*sets*) constructed here:"
   ]
  },
  {
   "cell_type": "code",
   "execution_count": null,
   "id": "09f5f55b",
   "metadata": {},
   "outputs": [],
   "source": [
    "import numpy as np\n",
    "\n",
    "x1=np.array([1.0, 1.5, 1.2, 0.8, 0.95])\n",
    "x2=np.array([1.1, 1.2, 1.6, 0.7, 0.85])\n",
    "x3=np.array([0.9, 0.85, 1.24, 1.3, 1.25])\n",
    "\n",
    "set1=data_class('set_1',x1)\n",
    "set2=data_class('set_2',x2)\n",
    "set3=data_class('set_3',x3)\n",
    "\n",
    "sets=np.array([set1, set2, set3], dtype='object')"
   ]
  },
  {
   "cell_type": "markdown",
   "id": "5a11d572",
   "metadata": {},
   "source": [
    "To describe the second element (*object*) of the array *sets*..."
   ]
  },
  {
   "cell_type": "code",
   "execution_count": null,
   "id": "5c71fde1",
   "metadata": {},
   "outputs": [],
   "source": [
    "sets[1].describe()"
   ]
  },
  {
   "cell_type": "markdown",
   "id": "68b6ae97",
   "metadata": {},
   "source": [
    "What follow is a rather advanced use of Python features. We exploit here the functions *exec* and *eval* that take strings and evaluate them. For instance:"
   ]
  },
  {
   "cell_type": "code",
   "execution_count": null,
   "id": "40915134",
   "metadata": {},
   "outputs": [],
   "source": [
    "a=1\n",
    "print(eval('a'))"
   ]
  },
  {
   "cell_type": "markdown",
   "id": "aca2ea9f",
   "metadata": {},
   "source": [
    "that is: there is a variable whose name is *a*, and there is the string 'a'... ``` eval('a') ``` *evaluates* 'a' to produce the variable name *a* and passes the result to the *print* function. Note that for the evaluation to be successful, the variable *a* MUST already exists in the namespace where *eval* is operating.\n",
    "\n",
    "The *exec* function works in this way:"
   ]
  },
  {
   "cell_type": "code",
   "execution_count": null,
   "id": "26624cad",
   "metadata": {},
   "outputs": [],
   "source": [
    "my_string='b=1'\n",
    "exec(my_string)\n",
    "print(b)"
   ]
  },
  {
   "cell_type": "markdown",
   "id": "d15886ef",
   "metadata": {},
   "source": [
    "here we have the string 'b=1' which is *executed* by the function *exec*. In this case, the result is the assignment ``` b=1 ``` and so, at the end of *exec*, we have a variable *b* which is equal to 1.   \n",
    "\n",
    "All this is used in the following code:"
   ]
  },
  {
   "cell_type": "code",
   "execution_count": null,
   "id": "0978ad17",
   "metadata": {},
   "outputs": [],
   "source": [
    "x1=np.array([1.0, 1.5, 1.2, 0.8, 0.95])\n",
    "x2=np.array([1.1, 1.2, 1.6, 0.7, 0.85])\n",
    "x3=np.array([0.9, 0.85, 1.24, 1.3, 1.25])\n",
    "x=[x1, x2, x3]\n",
    "\n",
    "set_list=['set1', 'set2', 'set3']\n",
    "set_name=['set_1', 'set_2', 'set_3']\n",
    "\n",
    "for iset, ix, iname in zip(set_list, x, set_name):\n",
    "    exec(iset + '= data_class(iname, ix)')\n",
    "    \n",
    "l_set=list(eval(iset) for iset in set_list)\n",
    "sets=np.array(l_set, dtype='object')"
   ]
  },
  {
   "cell_type": "markdown",
   "id": "814b18c2",
   "metadata": {},
   "source": [
    "In the *for* cycle the *exec* commands execute the instructions \n",
    "\n",
    "```\n",
    "set1 = data_class('set_1', x1)\n",
    "set2 = data_class('set_2', x2)\n",
    "set3 = data_class('set_3', x3)\n",
    "```\n",
    "\n",
    "The *eval* commmand is used to define the list of the three *variables* corresponding to the strings in the list *set_list*. \n",
    "\n",
    "Now, as before, the three *objects* *set1*, *set2* and *set3* are contained in the array *sets*"
   ]
  },
  {
   "cell_type": "code",
   "execution_count": null,
   "id": "8f572b2b",
   "metadata": {},
   "outputs": [],
   "source": [
    "sets[0].describe()"
   ]
  },
  {
   "cell_type": "code",
   "execution_count": null,
   "id": "4c122d18",
   "metadata": {},
   "outputs": [],
   "source": [
    "sets[2].describe()"
   ]
  },
  {
   "cell_type": "markdown",
   "id": "b9f9cf1c",
   "metadata": {},
   "source": [
    "### An aside on compilation and optimization\n",
    "\n",
    "In addition to the *eval* and the *exec* functions, the function *compile* can also be used that prepares an *object* code from any legal python string; such object code can then be executed by using the function *exec*. For instance:"
   ]
  },
  {
   "cell_type": "code",
   "execution_count": null,
   "id": "099c6b02",
   "metadata": {},
   "outputs": [],
   "source": [
    "code_str='a,b=3,2\\nprint(a*b)'\n",
    "print(code_str)\n",
    "\n",
    "code=compile(code_str, 'test', 'exec')\n",
    "exec(code)"
   ]
  },
  {
   "cell_type": "markdown",
   "id": "6a8ba243",
   "metadata": {},
   "source": [
    "A more useful and interesting feature is the possibility to compile and optimize code by using functions of the [Numba library](https://numba.readthedocs.io/en/stable/index.html): imagine to write a function to perform a sorting of data stored in an array:"
   ]
  },
  {
   "cell_type": "code",
   "execution_count": null,
   "id": "7eea9d24",
   "metadata": {},
   "outputs": [],
   "source": [
    "def my_sort(data):\n",
    "\n",
    "    ds=np.copy(data)\n",
    "    ll=np.arange(ds.size)\n",
    "        \n",
    "    for ip in ll:\n",
    "        ll2=np.arange(ip+1, ds.size)\n",
    "        for jp in ll2:\n",
    "            if ds[ip] > ds[jp]:\n",
    "               ds[ip], ds[jp] = ds[jp], ds[ip]\n",
    "              \n",
    "    return ds"
   ]
  },
  {
   "cell_type": "markdown",
   "id": "0f79329f",
   "metadata": {},
   "source": [
    "To test the function, you can run it on a list of 500 random numbers in the ``` [0, 1] ``` range generated by means of the *random.uniform* function of numpy.  "
   ]
  },
  {
   "cell_type": "code",
   "execution_count": null,
   "id": "a9ba20c0",
   "metadata": {},
   "outputs": [],
   "source": [
    "data=np.random.uniform(0, 1, 500)\n",
    "\n",
    "sorted_data=my_sort(data)"
   ]
  },
  {
   "cell_type": "markdown",
   "id": "cbc67136",
   "metadata": {},
   "source": [
    "The time required to do such sorting can be measured with the *%timeit magic*"
   ]
  },
  {
   "cell_type": "code",
   "execution_count": null,
   "id": "224cc4f3",
   "metadata": {},
   "outputs": [],
   "source": [
    "time1 = %timeit -o my_sort(data)"
   ]
  },
  {
   "cell_type": "markdown",
   "id": "2d12b55c",
   "metadata": {},
   "source": [
    "Now, let's optimize the function by using the *decorator* *jit* of the Numba library (decorators are preceded by the symbol '@' and are written immediately before the function definition):"
   ]
  },
  {
   "cell_type": "code",
   "execution_count": null,
   "id": "6baab1fd",
   "metadata": {},
   "outputs": [],
   "source": [
    "from numba import jit\n",
    "\n",
    "@jit(nopython=True)\n",
    "def my_sort(data):\n",
    "\n",
    "    ds=np.copy(data)\n",
    "    ll=np.arange(ds.size)\n",
    "        \n",
    "    for ip in ll:\n",
    "        ll2=np.arange(ip+1, ds.size)\n",
    "        for jp in ll2:\n",
    "            if ds[ip] > ds[jp]:\n",
    "               ds[ip], ds[jp] = ds[jp], ds[ip]\n",
    "              \n",
    "    return ds"
   ]
  },
  {
   "cell_type": "markdown",
   "id": "180a6fe4",
   "metadata": {},
   "source": [
    "Test the function by measuring the execution time:"
   ]
  },
  {
   "cell_type": "code",
   "execution_count": null,
   "id": "4c534c8b",
   "metadata": {},
   "outputs": [],
   "source": [
    "time2 = %timeit -o my_sort(data)"
   ]
  },
  {
   "cell_type": "markdown",
   "id": "f9f7be38",
   "metadata": {
    "variables": {
     " int(time1.average/time2.average) ": "187"
    }
   },
   "source": [
    "The optimized version is much faster than the first version! "
   ]
  },
  {
   "cell_type": "markdown",
   "id": "4f2c5dd9",
   "metadata": {},
   "source": [
    "Note that the numpy function for sorting data is even much faster..."
   ]
  },
  {
   "cell_type": "code",
   "execution_count": null,
   "id": "b655431f",
   "metadata": {},
   "outputs": [],
   "source": [
    "%timeit np.sort(data)"
   ]
  },
  {
   "cell_type": "markdown",
   "id": "25819d0f",
   "metadata": {},
   "source": [
    "### An example \n",
    "\n",
    "Imagine (as here it really the case) to have downloaded data from in INGV site, concerning earthquakes (time of occurence, location, magnitude, depth and a bunch of other information). Such data are organized in text files where columns are separated by the '|' character. A quick and nice way to import one of such files in our Python code, is by means of functions of the ***pandas*** library. "
   ]
  },
  {
   "cell_type": "code",
   "execution_count": null,
   "id": "9c89bcdc",
   "metadata": {},
   "outputs": [],
   "source": [
    "import pandas as pd  # import the Pandas library with the alias 'pd'\n",
    "import numpy as np\n",
    "import matplotlib.pyplot as plt"
   ]
  },
  {
   "cell_type": "markdown",
   "id": "ea5c44ce",
   "metadata": {},
   "source": [
    "Here we load data for Sicilia (data refer to all the earthquake in 2021, having magnitude greater than 2): data are loaded in the Pandas *DataFrame* we call *data_sicilia*:"
   ]
  },
  {
   "cell_type": "code",
   "execution_count": null,
   "id": "225c1103",
   "metadata": {},
   "outputs": [],
   "source": [
    "data_sicilia=pd.read_csv('data_files/earthq_sicilia.dat', sep='|')"
   ]
  },
  {
   "cell_type": "markdown",
   "id": "0d12ce75",
   "metadata": {},
   "source": [
    "The first 5 row of the datafile can be seen by:"
   ]
  },
  {
   "cell_type": "code",
   "execution_count": null,
   "id": "cff13a86",
   "metadata": {},
   "outputs": [],
   "source": [
    "data_sicilia.head()"
   ]
  },
  {
   "cell_type": "markdown",
   "id": "2bc2e32e",
   "metadata": {},
   "source": [
    "Now, image we are only interested in the magnitude of those earthquakes: we select the column 'Magnitude': "
   ]
  },
  {
   "cell_type": "code",
   "execution_count": null,
   "id": "6778a83e",
   "metadata": {},
   "outputs": [],
   "source": [
    "sicilia_magnitude=data_sicilia['Magnitude']"
   ]
  },
  {
   "cell_type": "code",
   "execution_count": null,
   "id": "e0498ee1",
   "metadata": {},
   "outputs": [],
   "source": [
    "sicilia_magnitude"
   ]
  },
  {
   "cell_type": "markdown",
   "id": "1290b6e5",
   "metadata": {},
   "source": [
    "Note the *type* of the objects *data_sicilia* and *sicilia_magnitude*):"
   ]
  },
  {
   "cell_type": "code",
   "execution_count": null,
   "id": "2e3edb23",
   "metadata": {},
   "outputs": [],
   "source": [
    "type(data_sicilia)"
   ]
  },
  {
   "cell_type": "code",
   "execution_count": null,
   "id": "b6711dd6",
   "metadata": {},
   "outputs": [],
   "source": [
    "type(sicilia_magnitude)"
   ]
  },
  {
   "cell_type": "markdown",
   "id": "90698681",
   "metadata": {},
   "source": [
    "We could get the average magnitude of the earthquakes in the file by using the *mean* method of the pandas data serie: "
   ]
  },
  {
   "cell_type": "code",
   "execution_count": null,
   "id": "3804434b",
   "metadata": {},
   "outputs": [],
   "source": [
    "sicilia_magnitude.mean()"
   ]
  },
  {
   "cell_type": "markdown",
   "id": "b5e888dc",
   "metadata": {},
   "source": [
    "A simple histogram of the data can be viewed: "
   ]
  },
  {
   "cell_type": "code",
   "execution_count": null,
   "id": "e960f2fa",
   "metadata": {},
   "outputs": [],
   "source": [
    "sicilia_magnitude.hist(bins=20)"
   ]
  },
  {
   "cell_type": "markdown",
   "id": "bc766cad",
   "metadata": {},
   "source": [
    "or embedding it in a *figure* making use of the *matplotlib* library (it gives you more freedom in putting axis labels having some size, etc...)  "
   ]
  },
  {
   "cell_type": "code",
   "execution_count": null,
   "id": "715fca71",
   "metadata": {},
   "outputs": [],
   "source": [
    "plt.figure()\n",
    "sicilia_magnitude.hist(bins=20)\n",
    "plt.xlabel('Magnitude', fontsize=16)\n",
    "plt.show()"
   ]
  },
  {
   "cell_type": "markdown",
   "id": "33bc7f3e",
   "metadata": {},
   "source": [
    "We can transform thi DataSerie in a numpy array:"
   ]
  },
  {
   "cell_type": "code",
   "execution_count": null,
   "id": "705eb1eb",
   "metadata": {},
   "outputs": [],
   "source": [
    "sicilia_m_list=np.array(sicilia_magnitude)"
   ]
  },
  {
   "cell_type": "code",
   "execution_count": null,
   "id": "45d9ee7b",
   "metadata": {},
   "outputs": [],
   "source": [
    "sicilia_m_list"
   ]
  },
  {
   "cell_type": "markdown",
   "id": "94f77ed7",
   "metadata": {},
   "source": [
    "Now, do the same with other files referring to other areas in Italy:"
   ]
  },
  {
   "cell_type": "code",
   "execution_count": null,
   "id": "830d1028",
   "metadata": {},
   "outputs": [],
   "source": [
    "data_north=pd.read_csv('data_files/earthq_north.dat', sep='|')\n",
    "data_central=pd.read_csv('data_files/earthq_central.dat', sep='|')\n",
    "data_emilia=pd.read_csv('data_files/earthq_emilia.dat', sep='|')\n",
    "\n",
    "north_magnitude=data_north['Magnitude']\n",
    "central_magnitude=data_central['Magnitude']\n",
    "emilia_magnitude=data_emilia['Magnitude']\n",
    "\n",
    "north_m_list=np.array(north_magnitude)\n",
    "central_m_list=np.array(central_magnitude)\n",
    "emilia_m_list=np.array(emilia_magnitude)"
   ]
  },
  {
   "cell_type": "markdown",
   "id": "d0be584b",
   "metadata": {},
   "source": [
    "Now, pack everything in the array *sets*:"
   ]
  },
  {
   "cell_type": "code",
   "execution_count": null,
   "id": "13151834",
   "metadata": {},
   "outputs": [],
   "source": [
    "set_name=['North', 'Emilia', 'Central', 'Sicilia']\n",
    "x=[north_m_list, emilia_m_list, central_m_list, sicilia_m_list] \n",
    "\n",
    "set_list=['set1', 'set2', 'set3', 'set4']\n",
    "set_name=['set_1', 'set_2', 'set_3', 'set_4']\n",
    "\n",
    "for iset, ix, iname in zip(set_list, x, set_name):\n",
    "    exec(iset + '= data_class(iname, ix)')\n",
    "    \n",
    "l_set=list(eval(iset) for iset in set_list)\n",
    "sets=np.array(l_set, dtype='object')"
   ]
  },
  {
   "cell_type": "code",
   "execution_count": null,
   "id": "b1757006",
   "metadata": {},
   "outputs": [],
   "source": [
    "for iset in range(4):\n",
    "    sets[iset].describe()\n",
    "    print(\"\")"
   ]
  },
  {
   "cell_type": "markdown",
   "id": "c5263651",
   "metadata": {},
   "source": [
    "## Other interesting features of classes\n",
    "\n",
    "- Class attributes *vs* object attributes\n",
    "- Class methods *vs* object methods\n",
    "\n",
    "Let's create a class having name *Data*, just to store names of objects (*instances* of the class itself). \n",
    "We want to keep track of the number of objects that with create in that *Data* class. Such number of objects will be a variable that should be clearly *logically* related to the class itself, and we would like to have a way to translate such *logical relation* into a *structural relation*. \n",
    "\n",
    "In what follow\n",
    "- we define the variable *number_of_obj* within the body of the *Data* class, and we initialize it to the value 0. This is a ***class attribute***: a value that will be *shared* by each object of the class: it is a *global* variable within the namespace of the class itself, so that it can be *seen* by every *method* of the class and its objects; in other words, it becomes an *attribute* of every object. \n",
    "\n",
    "- As usual, an \\__init\\__ method is created as a *constructor* of each newly defined object of the class. Such method asks for a *name* to be associated to the object and stored as an ***object attribute***. Now, as we create a new object, we want to *upgrade* the class variable *number_of_obj*, and this operation should be performed within the \\__init\\__ method. \n",
    "\n",
    "One way to work is:"
   ]
  },
  {
   "cell_type": "code",
   "execution_count": null,
   "id": "1e27f7ef",
   "metadata": {},
   "outputs": [],
   "source": [
    "class Data:\n",
    "    number_of_obj=0  \n",
    "    \n",
    "    def __init__(self, name):\n",
    "        self.name=name        \n",
    "        Data.number_of_obj += 1"
   ]
  },
  {
   "cell_type": "markdown",
   "id": "373b93ab",
   "metadata": {},
   "source": [
    "It *works*:"
   ]
  },
  {
   "cell_type": "code",
   "execution_count": null,
   "id": "58d561ce",
   "metadata": {},
   "outputs": [],
   "source": [
    "x1=Data('x1')\n",
    "x2=Data('x2')\n",
    "\n",
    "print(\"Number of objects: \", Data.number_of_obj)\n",
    "print(\"Name of object 1: \", x1.name)\n",
    "print(\"Name of object 2: \", x2.name)"
   ]
  },
  {
   "cell_type": "markdown",
   "id": "32d05c78",
   "metadata": {},
   "source": [
    "Indeed, we created 2 objects (*x1* and *x2*) and such number 2 is correctly recorded in the *Data.number_of_obj* attribute of the class. However this way to proceed is ***not** advised*. In particular, note that the name of the class (*Data*) is *hardcoded* in the definition of the \\__init\\__ function... if, for some reason, at a later time one decides to change the name of the class, every instance of such name within the body of the class must also be changed.\n",
    "\n",
    "Much better is to modify the class attibute by using a *method of the class* itself, rather than a *method of the object*. This is the correct way to proceed:"
   ]
  },
  {
   "cell_type": "code",
   "execution_count": null,
   "id": "c040e90a",
   "metadata": {},
   "outputs": [],
   "source": [
    "class Data:\n",
    "    number_of_obj=0  \n",
    "    \n",
    "    def __init__(self, name):\n",
    "        self.name=name        \n",
    "        self.increment_number()\n",
    "        \n",
    "    @classmethod\n",
    "    def increment_number(cls):\n",
    "        cls.number_of_obj += 1       "
   ]
  },
  {
   "cell_type": "markdown",
   "id": "4c50d53f",
   "metadata": {},
   "source": [
    "We created a *class method* whose name is *increment_number*, which is preceded by the *@classmethod* ***function decorator***.\n",
    "\n",
    "Such method refers to the *class* by the name *cls* (when invoked, *cls* will take the name *Data*); it increments the class attribute *cls.number_of_obj* by 1 unit. \n",
    "\n",
    "The \\__init\\__ method of the object invokes such class method by calling *self.increment_number()*: indeed, any *class method* is also a method of each of its instances. Let's try it: "
   ]
  },
  {
   "cell_type": "code",
   "execution_count": null,
   "id": "25b29c5a",
   "metadata": {},
   "outputs": [],
   "source": [
    "x1=Data('x1')\n",
    "x2=Data('x2')\n",
    "\n",
    "print(\"Number of objects: \", Data.number_of_obj)\n",
    "print(\"Name of object 1: \", x1.name)\n",
    "print(\"Name of object 2: \", x2.name)"
   ]
  },
  {
   "cell_type": "markdown",
   "id": "29269c71",
   "metadata": {},
   "source": [
    "Now, suppose you want to keep track of the objects you have instantiated (not only their total number). It would be nice to have a list (*obj_list*) of all such objects. Again, this list should be a *class attribute*: "
   ]
  },
  {
   "cell_type": "code",
   "execution_count": null,
   "id": "781a896b",
   "metadata": {},
   "outputs": [],
   "source": [
    "class Data:\n",
    "    number_of_obj=0  \n",
    "    obj_list=[]\n",
    "    \n",
    "    def __init__(self, name):\n",
    "        self.name=name      \n",
    "        self.increment_number()\n",
    "        self.update_list(name)\n",
    "        \n",
    "        \n",
    "    @classmethod\n",
    "    def increment_number(cls):\n",
    "        cls.number_of_obj += 1    \n",
    "        \n",
    "    @classmethod\n",
    "    def update_list(cls, name):\n",
    "        cls.obj_list.append(name)"
   ]
  },
  {
   "cell_type": "markdown",
   "id": "c00f31e7",
   "metadata": {},
   "source": [
    "With the same logic as before, we created a *class method* to properly handle the class attribute *obj_list*; the method is also called in the object *constructor* (\\__init\\__). Lets'try: "
   ]
  },
  {
   "cell_type": "code",
   "execution_count": null,
   "id": "649e9e8e",
   "metadata": {},
   "outputs": [],
   "source": [
    "x1=Data('x1')\n",
    "x2=Data('x2')\n",
    "\n",
    "print(\"Number of objects: \", Data.number_of_obj)\n",
    "print(\"List of object names\", Data.obj_list)"
   ]
  },
  {
   "cell_type": "markdown",
   "id": "662928c7",
   "metadata": {},
   "source": [
    "Suppose now you are interested to create new objects by *summing* other previously defined ones, by assigning names to them, which are defined following some given rule. For instance, from *x1* and *x2*, you want the object *x3=x1+x2* having the name *x1_x2*. Moreover, you want to really use the *operator* '+' to perform the job!\n",
    "\n",
    "The *dunder* method \\__add(self, other)\\__ is the way to do it..."
   ]
  },
  {
   "cell_type": "code",
   "execution_count": null,
   "id": "dfafa2dc",
   "metadata": {},
   "outputs": [],
   "source": [
    "class Data:\n",
    "    number_of_obj=0  \n",
    "    obj_list=[]\n",
    "    \n",
    "    def __init__(self, name):\n",
    "        self.name=name\n",
    "        \n",
    "        self.increment_number()\n",
    "        self.update_list(name)\n",
    "        \n",
    "    def __add__(self, other):     \n",
    "        new_obj_name=self.name + '_' + other.name\n",
    "        new_obj=self.join(new_obj_name)\n",
    "        return new_obj\n",
    "              \n",
    "    @classmethod\n",
    "    def increment_number(cls):\n",
    "        cls.number_of_obj += 1    \n",
    "        \n",
    "    @classmethod\n",
    "    def update_list(cls, name):\n",
    "        cls.obj_list.append(name)\n",
    "        \n",
    "    @classmethod\n",
    "    def join(cls, new_name):\n",
    "        return cls(new_name)\n",
    "    \n",
    "    @classmethod\n",
    "    def reset(cls):\n",
    "        cls.number_of_obj=0 \n",
    "        cls.obj_list=[]\n",
    "        "
   ]
  },
  {
   "cell_type": "markdown",
   "id": "21b4544d",
   "metadata": {},
   "source": [
    "Some points must be noted here:\n",
    "\n",
    "- every time the '+' operator will be used on objects of the class *Data*, the corresponding \\__add\\__ method will be invoked;\n",
    "- such method produces the appropriate name and stores it in the *new_obj_name* (local) variable;\n",
    "- \\__add\\__ calls the *class method* *join*, by passing it *new_obj_name* as argument;\n",
    "- the class method *join* returns (to the *caller* function \\__add\\__) a new instance of the class: indeed, *cls(new_name)* is equivalent to *Data(new_name)* which, in turn, is just the creation of a new instance of the *Data* class. This also means that the \\__init\\__ constructor will be called for the newly created object, so that the *number_of_obj* and the *obj_list* will be properly updated;\n",
    "- lastly, the \\__add\\__ method returns the new object.\n",
    "\n",
    "A class method *reset* was also implemented to reset the class variables to their original values. \n",
    "\n",
    "let's see what happen:"
   ]
  },
  {
   "cell_type": "code",
   "execution_count": null,
   "id": "31f235ed",
   "metadata": {},
   "outputs": [],
   "source": [
    "x1=Data('x1')\n",
    "x2=Data('x2')\n",
    "\n",
    "x3=x1+x2\n",
    "\n",
    "print(\"Number of objects: \", Data.number_of_obj)\n",
    "print(\"List of object names\", Data.obj_list)"
   ]
  },
  {
   "cell_type": "markdown",
   "id": "e1cd4f37",
   "metadata": {},
   "source": [
    "Note (and try to motivate) the behaviour of the '+' operator in a case like the following:  "
   ]
  },
  {
   "cell_type": "code",
   "execution_count": null,
   "id": "6f56ed4d",
   "metadata": {},
   "outputs": [],
   "source": [
    "Data.reset()\n",
    "\n",
    "x1=Data('x1')\n",
    "x2=Data('x2')\n",
    "x3=Data('x3')\n",
    "\n",
    "x4=x1+x2+x3\n",
    "\n",
    "print(\"Number of objects: \", Data.number_of_obj)\n",
    "print(\"List of object names\", Data.obj_list)"
   ]
  }
 ],
 "metadata": {
  "kernelspec": {
   "display_name": "Python 3 (ipykernel)",
   "language": "python",
   "name": "python3"
  },
  "language_info": {
   "codemirror_mode": {
    "name": "ipython",
    "version": 3
   },
   "file_extension": ".py",
   "mimetype": "text/x-python",
   "name": "python",
   "nbconvert_exporter": "python",
   "pygments_lexer": "ipython3",
   "version": "3.11.3"
  },
  "latex_envs": {
   "LaTeX_envs_menu_present": true,
   "autoclose": false,
   "autocomplete": true,
   "bibliofile": "biblio.bib",
   "cite_by": "apalike",
   "current_citInitial": 1,
   "eqLabelWithNumbers": true,
   "eqNumInitial": 1,
   "hotkeys": {
    "equation": "Ctrl-E",
    "itemize": "Ctrl-I"
   },
   "labels_anchors": false,
   "latex_user_defs": false,
   "report_style_numbering": false,
   "user_envs_cfg": false
  },
  "varInspector": {
   "cols": {
    "lenName": 16,
    "lenType": 16,
    "lenVar": 40
   },
   "kernels_config": {
    "python": {
     "delete_cmd_postfix": "",
     "delete_cmd_prefix": "del ",
     "library": "var_list.py",
     "varRefreshCmd": "print(var_dic_list())"
    },
    "r": {
     "delete_cmd_postfix": ") ",
     "delete_cmd_prefix": "rm(",
     "library": "var_list.r",
     "varRefreshCmd": "cat(var_dic_list()) "
    }
   },
   "types_to_exclude": [
    "module",
    "function",
    "builtin_function_or_method",
    "instance",
    "_Feature"
   ],
   "window_display": false
  }
 },
 "nbformat": 4,
 "nbformat_minor": 5
}
