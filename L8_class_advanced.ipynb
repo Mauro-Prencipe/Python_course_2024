{
 "cells": [
  {
   "cell_type": "code",
   "execution_count": 1,
   "id": "5ba315fb",
   "metadata": {},
   "outputs": [],
   "source": [
    "import pandas as pd  \n",
    "import numpy as np\n",
    "import matplotlib.pyplot as plt\n",
    "\n",
    "class Stat():\n",
    "          \n",
    "      def set_size(self):\n",
    "          self.size=len(self.magnitude)\n",
    "          return self.size\n",
    "        \n",
    "      def average(self):\n",
    "          ave = 0.\n",
    "          size = self.set_size()\n",
    "          self.size=size\n",
    "          for ix in self.magnitude:\n",
    "              ave=ave+ix\n",
    "          ave=ave/size\n",
    "          self.ave=ave\n",
    "          self.flag=True\n",
    "          return ave\n",
    "        \n",
    "      def standard_deviation(self, force=True):\n",
    "          if (not self.flag) or (self.flag and force):\n",
    "             ave=self.average() \n",
    "            \n",
    "          ave=self.ave\n",
    "          size=self.size\n",
    "          std=0.\n",
    "          for ix in self.magnitude:\n",
    "              std=std+(ix-ave)**2\n",
    "                \n",
    "          std=(std/(size-1))**0.5\n",
    "          self.std=std\n",
    "          return std\n",
    "            \n",
    "      def describe(self):\n",
    "          if not self.flag_ready:\n",
    "              print(f\"Data set for {self} is not ready\")\n",
    "          else:    \n",
    "              if not self.flag:\n",
    "                 self.average()\n",
    "                 self.standard_deviation()\n",
    "                 self.min_mag=np.min(self.magnitude)\n",
    "                 self.max_mag=np.max(self.magnitude)\n",
    "                 self.depth_min=np.min(self.depth)\n",
    "                 self.depth_max=np.max(self.depth)\n",
    "                    \n",
    "              print(\"data-set: %s\" % self.name_for_dictionary)\n",
    "              print(\"Size: %4i\" % self.size)\n",
    "              print(\"Minimum magnitude:  %5.2f\" % self.min_mag)\n",
    "              print(\"Maximum magnitude:  %5.2f\" % self.max_mag)\n",
    "              print(\"Average magnitude:  %5.2f\" % self.ave)\n",
    "              print(\"Stand. dev:         %5.2f\\n\" % self.std)\n",
    "              print(\"Depths (km):\")\n",
    "              print(\"Minimum depth: %6.1f, maximum depth %6.1f\\n\" %\n",
    "                   (self.depth_min, self.depth_max))\n",
    "              \n",
    "              if self.richter_flag:\n",
    "                 inter=self.richter_fit[1]\n",
    "                 slope=self.richter_fit[0]\n",
    "                 print(\"Richter fit:\")\n",
    "                 print(\"Intercept: %4.2f,   Slope: %6.4f\\n\" % (inter, slope))\n",
    "                  \n",
    "            \n",
    "class Data(Stat):\n",
    "    number_of_sets=0 \n",
    "    flag_array=False\n",
    "    n_new_var=0\n",
    "    new=np.array([], dtype='object')\n",
    "    \n",
    "    def __init__(self, name):\n",
    "                \n",
    "        self.magnitude=None\n",
    "        self.depth=None\n",
    "        self.name=name\n",
    "        self.name_for_dictionary=name\n",
    "        self.ave=0.\n",
    "        self.std=0.\n",
    "        self.flag=False\n",
    "        self.richter_flag=False\n",
    "        self.richter_fit=None\n",
    "        self.nz_log_counts=None\n",
    "        self.nz_mag=None\n",
    "        self.__bins=20\n",
    "        self.flag_ready=False\n",
    "        \n",
    "        \n",
    "    def set_data(self, type_of_data, val):\n",
    "        \n",
    "        \"\"\"\n",
    "        Loads magnitudes and depths of quake events as attributes\n",
    "        of instances of the Data class\n",
    "    \n",
    "        Input:\n",
    "            type_of_data: can take the values 'magnitude' or 'depth'\n",
    "            val: array of corresponding numerical values\n",
    "        \"\"\"\n",
    "        \n",
    "        match type_of_data:\n",
    "            case 'magnitude':\n",
    "               self.magnitude=np.array(val)\n",
    "            case 'depth':\n",
    "               self.depth=np.array(val)\n",
    "            case other:\n",
    "                print(f\"{type_of_data} not implemented\")\n",
    "                \n",
    "    def __add__(self, other):\n",
    "        global new_temp\n",
    "        if Data.flag_array:\n",
    "           print(\"Data set summation is not possible in 'array mode'\")\n",
    "           return\n",
    "       \n",
    "        new_name=self.name+'_'+other.name\n",
    "        \n",
    "        Data.new=np.append(Data.new, Data(new_name))\n",
    "        Data.new[Data.n_new_var] = Data(new_name)\n",
    "        Data.new[Data.n_new_var].magnitude=np.append(self.magnitude, other.magnitude)\n",
    "        Data.new[Data.n_new_var].depth=np.append(self.depth, other.depth)\n",
    "        Data.new[Data.n_new_var].name_for_dictionary=new_name\n",
    "        Data.new[Data.n_new_var].flag_ready=True\n",
    "        \n",
    "        vname='Data.new['+str(Data.n_new_var)+']'\n",
    "        Data.region_names.append(vname)\n",
    "        Data.region_names_for_dictionary.append(new_name)\n",
    "        Data.number_of_sets += 1\n",
    "        \n",
    "        new_temp=Data.new[Data.n_new_var]\n",
    "        Data.n_new_var += 1\n",
    "        \n",
    "        return new_temp\n",
    "        \n",
    "                \n",
    "    @property\n",
    "    def bins(self):\n",
    "        return self.__bins\n",
    "    \n",
    "    @bins.setter\n",
    "    def bins(self, bins_value):\n",
    "        \n",
    "        if bins_value <= 2:\n",
    "           self.__bins=2\n",
    "           print(\"bins cannot be lower than 2.\\nValue set to 2\")\n",
    "        else:\n",
    "           self.__bins=bins_value\n",
    "                         \n",
    "           \n",
    "    def richter(self, mgm=0, mgx=0, d_min=0, d_max=0, bins=0, plot=False): \n",
    " \n",
    "        \"\"\"\n",
    "        Computes Richter's law fit\n",
    "        \n",
    "        Input:\n",
    "             mgm: if not 0, minimun magnitude (default 0)\n",
    "             mgx: if not 0, maximum magnitude (default 0)\n",
    "             d_min: if not 0, minimum depth (default 0)\n",
    "             d_max: if not 0, maximim depth (default 0)\n",
    "             bins: if not 0, sets the number of bins of\n",
    "                   the histogram of the magnitude distribution\n",
    "                   (default 0)\n",
    "             plot: if True, a plot of the Richter's law is produced\n",
    "                   (default False)\n",
    "        \"\"\"\n",
    "        self.richter_flag=False\n",
    "        self.describe()\n",
    "        \n",
    "        if bins !=0:\n",
    "           self.bins=bins\n",
    "        \n",
    "        minimum=np.min(self.magnitude)\n",
    "        maximum=np.max(self.magnitude)     \n",
    "        minimum_d=np.min(self.depth)\n",
    "        maximum_d=np.max(self.depth)\n",
    "        \n",
    "        if mgm != 0:\n",
    "           minimum=mgm\n",
    "        if mgx != 0:\n",
    "           maximum=mgx           \n",
    "        if d_min != 0:\n",
    "           minimum_d=d_min\n",
    "        if d_max != 0:\n",
    "           maximum_d=d_max \n",
    "        \n",
    "        mag=self.magnitude \n",
    "        depth=self.depth\n",
    "        \n",
    "        cases_mag=np.where((mag >= minimum) & (mag <= maximum))\n",
    "        cases_depth=np.where((depth >= minimum_d) & (depth <= maximum_d))\n",
    "        cases=np.intersect1d(cases_mag, cases_depth)\n",
    "        \n",
    "        count, mag=np.histogram(mag[cases], bins=self.bins)          \n",
    "        nz_counts=np.array([])\n",
    "        nz_mag=np.array([])\n",
    "        for ic in range(len(count)):\n",
    "            if count[ic] != 0:\n",
    "               nz_counts=np.append(nz_counts, count[ic])\n",
    "               nz_mag=np.append(nz_mag, mag[ic])                    \n",
    "        nz_log_counts=np.log10(nz_counts)         \n",
    "        fit=np.polyfit(nz_mag, nz_log_counts, 1)\n",
    "        \n",
    "        self.richter_fit=fit\n",
    "        self.nz_log_counts=nz_log_counts\n",
    "        self.nz_mag=nz_mag        \n",
    "        self.richter_flag=True\n",
    "        \n",
    "        print(\"Fit results:\")\n",
    "        print(f\"Number of events: {len(cases)}\")\n",
    "        print(\"Intercept: %4.2f,   Slope: %6.4f\" % (fit[1], fit[0]))\n",
    "        \n",
    "        if plot:\n",
    "           self.richter_plot(mgm, mgx)\n",
    "        \n",
    "    def richter_plot(self, mgm=0, mgx=0, force=False):\n",
    "        \"\"\"\n",
    "        Richter's law plot\n",
    "        \n",
    "        Input:\n",
    "            mgm: if not 0, sets the minimim magnitude considered\n",
    "            mgx: if not 0, sets the maximum magnitude considered\n",
    "            force: if True, a Richter's law fit is requested \n",
    "                   (default False)\n",
    "        \"\"\"\n",
    "        if force or (not self.richter_flag):\n",
    "           self.richter(mgm, mgx, d_min=0, d_max=0)   \n",
    "           fit=self.richter_fit\n",
    "        \n",
    "        mag_min=self.min_mag\n",
    "        mag_max=self.max_mag\n",
    "    \n",
    "        if mgm != 0:\n",
    "           mag_min=mgm\n",
    "        if mgx != 0:\n",
    "           mag_max=mgx\n",
    "           \n",
    "        p1x=mag_min\n",
    "        p2x=mag_max    \n",
    "        p1y=np.polyval(self.richter_fit, p1x)\n",
    "        p2y=np.polyval(self.richter_fit, p2x)\n",
    "    \n",
    "        nz_mag=self.nz_mag\n",
    "        nz_log_counts=self.nz_log_counts\n",
    "       \n",
    "        plt.figure()    \n",
    "        plt.plot((p1x, p2x), (p1y, p2y), \"k-\", label=\"Linear regression\")\n",
    "        plt.plot(nz_mag, nz_log_counts, \"k*\", label=\"Actual values\")\n",
    "        plt.xlabel('Magnitude')\n",
    "        plt.ylabel('Log count')\n",
    "        plt.title('Richter Law')\n",
    "        plt.legend(frameon=False)\n",
    "        plt.show()\n",
    "        \n",
    "        print(\"\")\n",
    "        \n",
    "    def depth_distribution(self, bins=30):\n",
    "        depth=self.depth\n",
    "\n",
    "        plt.figure()\n",
    "        plt.hist(depth, bins)\n",
    "        plt.xlabel(\"Depth (km)\")\n",
    "        plt.ylabel(\"Number\")\n",
    "        plt.title(f\"Region: {self.name.capitalize()}\")\n",
    "        plt.show()\n",
    "                         \n",
    "                \n",
    "    @classmethod\n",
    "    def read_info(cls, path, info):\n",
    "        \"\"\"\n",
    "        Reads an information file containing names of data files and\n",
    "        names of regions, for the creation of the quakes dataset.\n",
    "        \n",
    "        Input:\n",
    "            path: location of the info file\n",
    "            info: name of the info file\n",
    "        \"\"\"\n",
    "        \n",
    "        cls.region_names=[]\n",
    "        cls.region_names_for_dictionary=[]\n",
    "        cls.region_files=[]\n",
    "        file=path+'/'+info\n",
    "        fi=open(file)\n",
    "        text=fi.read()\n",
    "        fi.close()\n",
    "        text=text.rstrip().splitlines()\n",
    "        num_lines=len(text)\n",
    "        \n",
    "        \n",
    "        for line in text:\n",
    "            line=line.split()\n",
    "            cls.region_files.append(line[0])\n",
    "            cls.region_names.append(line[1])\n",
    "            cls.region_names_for_dictionary.append(line[1])\n",
    "            \n",
    "            \n",
    "        cls.path=path        \n",
    "        cls.number_of_sets=num_lines\n",
    "\n",
    "    \n",
    "    @classmethod\n",
    "    def set_array(cls, out=False):  \n",
    "        \"\"\"\n",
    "        Prepares and (optionally) returns a dictionary for regions and \n",
    "        an array of Data class sets for each region; each position in \n",
    "        the array is associated with a key in the dictionary\n",
    "        \n",
    "        Input:\n",
    "            out: if True, a dictionaru and dataset array are returned\n",
    "                 (default False)\n",
    "        \n",
    "        Examples:\n",
    "            >>> rd, dataset=Data.set_array(out=True)\n",
    "            >>> dataset[rd['sicilia']].richter()\n",
    "            \n",
    "            >>> for ir in range(Data.number_of_sets):\n",
    "                    dataset[ir].richter()\n",
    "        \"\"\"     \n",
    "        \n",
    "        number_list=list(range(cls.number_of_sets))\n",
    "        l_set=list(iset for iset in cls.region_names_for_dictionary)\n",
    "        cls.flag_array=True\n",
    "        cls.region_dictionary=dict(zip(cls.region_names_for_dictionary, number_list))\n",
    "        cls.region_array=np.array(number_list, dtype='object')\n",
    "        for name in cls.region_dictionary:\n",
    "            ipos=cls.region_dictionary[name]\n",
    "            cls.region_array[ipos]=cls(Data.region_names[ipos])\n",
    "            \n",
    "        cls.setup()\n",
    "        \n",
    "        if out:\n",
    "            return cls.region_dictionary, cls.region_array\n",
    "        \n",
    "    @classmethod\n",
    "    def reset_array(cls):\n",
    "        cls.flag_array=False\n",
    "        \n",
    "        \n",
    "    @classmethod\n",
    "    def setup(cls):\n",
    "        \n",
    "        ibase=0\n",
    "        for region, file in zip(cls.region_names, cls.region_files):\n",
    "            idata=pd.read_csv(cls.path+'/'+file, sep='|')\n",
    "            idata.rename(columns={\"Depth/Km\": \"Depth\"}, inplace=True)\n",
    "            ibase += 1\n",
    "         \n",
    "            if not cls.flag_array:\n",
    "               try:\n",
    "                  eval(region).set_data('magnitude', idata.Magnitude)\n",
    "                  eval(region).set_data('depth', idata.Depth)\n",
    "                  eval(region).flag_ready=True\n",
    "               except NameError:\n",
    "                  print(\"Array method should be set as 'region variables'\")\n",
    "                  print(\"are not defined. Use the command:\")\n",
    "                  print(\">>> Data.set_array()\")\n",
    "                  break\n",
    "            else:\n",
    "               ipos=cls.region_dictionary[region]               \n",
    "               cls.region_array[ipos].set_data('magnitude', idata.Magnitude)\n",
    "               cls.region_array[ipos].set_data('depth', idata.Depth)\n",
    "               cls.region_array[ipos].flag_ready=True\n",
    "               \n",
    "        for nvar in range(cls.n_new_var):\n",
    "                cls.region_array[nvar+ibase].set_data('magnitude', cls.new[nvar].magnitude)\n",
    "                cls.region_array[nvar+ibase].set_data('depth', cls.new[nvar].depth)\n",
    "                cls.region_array[nvar+ibase].name_for_dictionary=cls.new[nvar].name\n",
    "                cls.region_array[nvar+ibase].flag_ready=True\n",
    "                \n",
    "    @classmethod\n",
    "    def get_dataset(cls):\n",
    "        \"\"\"\n",
    "        returns a dictionary for regions and an array of Data class\n",
    "        sets for each region; each position in the array is associated\n",
    "        with a key in the dictionary\n",
    "        \n",
    "        Examples:\n",
    "            >>> rd, dataset=Data.get_dataset()\n",
    "            >>> dataset[rd['sicilia']].richter()\n",
    "            \n",
    "            >>> for ir in range(Data.number_of_sets):\n",
    "                    dataset[ir].richter()\n",
    "        \"\"\"\n",
    "        \n",
    "        if not cls.flag_array:\n",
    "           cls.set_array()\n",
    "                      \n",
    "        return cls.region_dictionary, cls.region_array\n",
    "        \n",
    "            \n",
    "    @classmethod\n",
    "    def describe_all(cls):\n",
    "        print(f\"Number of datasets: {cls.number_of_sets}\")\n",
    "        print(f\"Regions: {cls.region_names_for_dictionary}\\n\")\n",
    "        \n",
    "        for region, region_dictionary in zip(cls.region_names, cls.region_names_for_dictionary):\n",
    "            if not cls.flag_array:\n",
    "                eval(region).describe()\n",
    "            else:\n",
    "                ipos=cls.region_dictionary[region_dictionary]\n",
    "                cls.region_array[ipos].describe()\n",
    "                   \n",
    "        print(\"-\"*35)\n",
    "            \n",
    "    @classmethod\n",
    "    def richter_all(cls, mgm=0, mgx=0, d_min=0, d_max=0, plot=False):\n",
    "        for region, region_dictionary in zip(cls.region_names, cls.region_names_for_dictionary):\n",
    "            if not cls.flag_array:\n",
    "               eval(region).richter(mgm, mgx, d_min, d_max, plot=plot)\n",
    "               print(\"\")\n",
    "            else:\n",
    "                ipos=cls.region_dictionary[region_dictionary]\n",
    "                cls.region_array[ipos].richter(mgm, mgx, d_min, d_max, plot=plot)\n",
    "                print(\"\")\n",
    "                \n",
    "        print(\"\")\n",
    "        print(\"-\"*35)"
   ]
  },
  {
   "cell_type": "code",
   "execution_count": 2,
   "id": "162bc0c5",
   "metadata": {},
   "outputs": [],
   "source": [
    "def start(path='L8_data_files', info_file='info.dat'):    \n",
    "    Data.read_info(path, info_file) "
   ]
  },
  {
   "cell_type": "code",
   "execution_count": 3,
   "id": "d0853c09",
   "metadata": {},
   "outputs": [],
   "source": [
    "start()\n",
    "for region in Data.region_names:\n",
    "    exec(region + ' = Data(region)')\n",
    "Data.setup()"
   ]
  },
  {
   "cell_type": "code",
   "execution_count": 4,
   "id": "a60b6cb6",
   "metadata": {},
   "outputs": [
    {
     "name": "stdout",
     "output_type": "stream",
     "text": [
      "Number of datasets: 4\n",
      "Regions: ['sicilia', 'north', 'central', 'emilia']\n",
      "\n",
      "data-set: sicilia\n",
      "Size:  559\n",
      "Minimum magnitude:   2.00\n",
      "Maximum magnitude:   4.30\n",
      "Average magnitude:   2.33\n",
      "Stand. dev:          0.35\n",
      "\n",
      "Depths (km):\n",
      "Minimum depth:    0.0, maximum depth  208.2\n",
      "\n",
      "data-set: north\n",
      "Size:  131\n",
      "Minimum magnitude:   2.00\n",
      "Maximum magnitude:   3.90\n",
      "Average magnitude:   2.36\n",
      "Stand. dev:          0.39\n",
      "\n",
      "Depths (km):\n",
      "Minimum depth:    1.5, maximum depth   62.4\n",
      "\n",
      "data-set: central\n",
      "Size:  367\n",
      "Minimum magnitude:   2.00\n",
      "Maximum magnitude:   3.90\n",
      "Average magnitude:   2.29\n",
      "Stand. dev:          0.34\n",
      "\n",
      "Depths (km):\n",
      "Minimum depth:    4.9, maximum depth   69.5\n",
      "\n",
      "data-set: emilia\n",
      "Size:  144\n",
      "Minimum magnitude:   2.00\n",
      "Maximum magnitude:   4.10\n",
      "Average magnitude:   2.33\n",
      "Stand. dev:          0.37\n",
      "\n",
      "Depths (km):\n",
      "Minimum depth:    1.1, maximum depth   71.1\n",
      "\n",
      "-----------------------------------\n"
     ]
    }
   ],
   "source": [
    "Data.describe_all()"
   ]
  },
  {
   "cell_type": "code",
   "execution_count": 5,
   "id": "081db888",
   "metadata": {},
   "outputs": [
    {
     "name": "stdout",
     "output_type": "stream",
     "text": [
      "data-set: sicilia\n",
      "Size:  559\n",
      "Minimum magnitude:   2.00\n",
      "Maximum magnitude:   4.30\n",
      "Average magnitude:   2.33\n",
      "Stand. dev:          0.35\n",
      "\n",
      "Depths (km):\n",
      "Minimum depth:    0.0, maximum depth  208.2\n",
      "\n"
     ]
    }
   ],
   "source": [
    "sicilia.describe()"
   ]
  },
  {
   "cell_type": "code",
   "execution_count": 6,
   "id": "d37eb4bc",
   "metadata": {},
   "outputs": [
    {
     "name": "stdout",
     "output_type": "stream",
     "text": [
      "data-set: sicilia\n",
      "Size:  559\n",
      "Minimum magnitude:   2.00\n",
      "Maximum magnitude:   4.30\n",
      "Average magnitude:   2.33\n",
      "Stand. dev:          0.35\n",
      "\n",
      "Depths (km):\n",
      "Minimum depth:    0.0, maximum depth  208.2\n",
      "\n",
      "Fit results:\n",
      "Number of events: 559\n",
      "Intercept: 4.08,   Slope: -1.0261\n"
     ]
    },
    {
     "data": {
      "image/png": "[encoded data removed]",
      "text/plain": [
       "<Figure size 640x480 with 1 Axes>"
      ]
     },
     "metadata": {},
     "output_type": "display_data"
    },
    {
     "name": "stdout",
     "output_type": "stream",
     "text": [
      "\n"
     ]
    }
   ],
   "source": [
    "sicilia.richter(plot=True)"
   ]
  },
  {
   "cell_type": "code",
   "execution_count": 7,
   "id": "0b8e43e2",
   "metadata": {},
   "outputs": [
    {
     "data": {
      "image/png": "[encoded data removed]",
      "text/plain": [
       "<Figure size 640x480 with 1 Axes>"
      ]
     },
     "metadata": {},
     "output_type": "display_data"
    }
   ],
   "source": [
    "sicilia.depth_distribution()"
   ]
  },
  {
   "cell_type": "code",
   "execution_count": 8,
   "id": "f50f66a1",
   "metadata": {},
   "outputs": [
    {
     "name": "stdout",
     "output_type": "stream",
     "text": [
      "data-set: sicilia\n",
      "Size:  559\n",
      "Minimum magnitude:   2.00\n",
      "Maximum magnitude:   4.30\n",
      "Average magnitude:   2.33\n",
      "Stand. dev:          0.35\n",
      "\n",
      "Depths (km):\n",
      "Minimum depth:    0.0, maximum depth  208.2\n",
      "\n",
      "Fit results:\n",
      "Number of events: 475\n",
      "Intercept: 3.90,   Slope: -0.9792\n"
     ]
    },
    {
     "data": {
      "image/png": "[encoded data removed]",
      "text/plain": [
       "<Figure size 640x480 with 1 Axes>"
      ]
     },
     "metadata": {},
     "output_type": "display_data"
    },
    {
     "name": "stdout",
     "output_type": "stream",
     "text": [
      "\n"
     ]
    }
   ],
   "source": [
    "sicilia.richter(d_max=40, plot=True)"
   ]
  },
  {
   "cell_type": "code",
   "execution_count": 11,
   "id": "b5515c11",
   "metadata": {},
   "outputs": [
    {
     "name": "stdout",
     "output_type": "stream",
     "text": [
      "data-set: sicilia\n",
      "Size:  559\n",
      "Minimum magnitude:   2.00\n",
      "Maximum magnitude:   4.30\n",
      "Average magnitude:   2.33\n",
      "Stand. dev:          0.35\n",
      "\n",
      "Depths (km):\n",
      "Minimum depth:    0.0, maximum depth  208.2\n",
      "\n",
      "Fit results:\n",
      "Number of events: 471\n",
      "Intercept: 4.50,   Slope: -1.0580\n"
     ]
    },
    {
     "data": {
      "image/png": "[encoded data removed]",
      "text/plain": [
       "<Figure size 640x480 with 1 Axes>"
      ]
     },
     "metadata": {},
     "output_type": "display_data"
    },
    {
     "name": "stdout",
     "output_type": "stream",
     "text": [
      "\n"
     ]
    }
   ],
   "source": [
    "sicilia.bins=5\n",
    "sicilia.richter(d_max=40, mgx=3.5, plot=True)"
   ]
  },
  {
   "cell_type": "code",
   "execution_count": 13,
   "id": "fb90d311",
   "metadata": {},
   "outputs": [],
   "source": [
    "ec=central+emilia"
   ]
  },
  {
   "cell_type": "code",
   "execution_count": 14,
   "id": "a547ac21",
   "metadata": {},
   "outputs": [
    {
     "name": "stdout",
     "output_type": "stream",
     "text": [
      "data-set: central_emilia\n",
      "Size:  511\n",
      "Minimum magnitude:   2.00\n",
      "Maximum magnitude:   4.10\n",
      "Average magnitude:   2.30\n",
      "Stand. dev:          0.35\n",
      "\n",
      "Depths (km):\n",
      "Minimum depth:    1.1, maximum depth   71.1\n",
      "\n"
     ]
    }
   ],
   "source": [
    "ec.describe()"
   ]
  },
  {
   "cell_type": "code",
   "execution_count": 15,
   "id": "c5815eee",
   "metadata": {},
   "outputs": [
    {
     "name": "stdout",
     "output_type": "stream",
     "text": [
      "data-set: central_emilia\n",
      "Size:  511\n",
      "Minimum magnitude:   2.00\n",
      "Maximum magnitude:   4.10\n",
      "Average magnitude:   2.30\n",
      "Stand. dev:          0.35\n",
      "\n",
      "Depths (km):\n",
      "Minimum depth:    1.1, maximum depth   71.1\n",
      "\n",
      "Fit results:\n",
      "Number of events: 511\n",
      "Intercept: 4.01,   Slope: -1.0400\n"
     ]
    }
   ],
   "source": [
    "ec.richter()"
   ]
  },
  {
   "cell_type": "code",
   "execution_count": 17,
   "id": "4624f7f7",
   "metadata": {},
   "outputs": [
    {
     "name": "stdout",
     "output_type": "stream",
     "text": [
      "Number of datasets: 5\n",
      "Regions: ['sicilia', 'north', 'central', 'emilia', 'central_emilia']\n",
      "\n",
      "data-set: sicilia\n",
      "Size:  559\n",
      "Minimum magnitude:   2.00\n",
      "Maximum magnitude:   4.30\n",
      "Average magnitude:   2.33\n",
      "Stand. dev:          0.35\n",
      "\n",
      "Depths (km):\n",
      "Minimum depth:    0.0, maximum depth  208.2\n",
      "\n",
      "Richter fit:\n",
      "Intercept: 5.02,   Slope: -1.2126\n",
      "\n",
      "data-set: north\n",
      "Size:  131\n",
      "Minimum magnitude:   2.00\n",
      "Maximum magnitude:   3.90\n",
      "Average magnitude:   2.36\n",
      "Stand. dev:          0.39\n",
      "\n",
      "Depths (km):\n",
      "Minimum depth:    1.5, maximum depth   62.4\n",
      "\n",
      "Richter fit:\n",
      "Intercept: 2.97,   Slope: -0.8141\n",
      "\n",
      "data-set: central\n",
      "Size:  367\n",
      "Minimum magnitude:   2.00\n",
      "Maximum magnitude:   3.90\n",
      "Average magnitude:   2.29\n",
      "Stand. dev:          0.34\n",
      "\n",
      "Depths (km):\n",
      "Minimum depth:    4.9, maximum depth   69.5\n",
      "\n",
      "Richter fit:\n",
      "Intercept: 4.01,   Slope: -1.0755\n",
      "\n",
      "data-set: emilia\n",
      "Size:  144\n",
      "Minimum magnitude:   2.00\n",
      "Maximum magnitude:   4.10\n",
      "Average magnitude:   2.33\n",
      "Stand. dev:          0.37\n",
      "\n",
      "Depths (km):\n",
      "Minimum depth:    1.1, maximum depth   71.1\n",
      "\n",
      "Richter fit:\n",
      "Intercept: 2.90,   Slope: -0.8007\n",
      "\n",
      "data-set: central_emilia\n",
      "Size:  511\n",
      "Minimum magnitude:   2.00\n",
      "Maximum magnitude:   4.10\n",
      "Average magnitude:   2.30\n",
      "Stand. dev:          0.35\n",
      "\n",
      "Depths (km):\n",
      "Minimum depth:    1.1, maximum depth   71.1\n",
      "\n",
      "Richter fit:\n",
      "Intercept: 4.01,   Slope: -1.0400\n",
      "\n",
      "-----------------------------------\n"
     ]
    }
   ],
   "source": [
    "Data.describe_all()"
   ]
  },
  {
   "cell_type": "code",
   "execution_count": 19,
   "id": "56976b97",
   "metadata": {},
   "outputs": [],
   "source": [
    "rd, ra=Data.set_array(out=True)"
   ]
  },
  {
   "cell_type": "code",
   "execution_count": 20,
   "id": "9235c2a4",
   "metadata": {},
   "outputs": [
    {
     "name": "stdout",
     "output_type": "stream",
     "text": [
      "{'sicilia': 0, 'north': 1, 'central': 2, 'emilia': 3, 'central_emilia': 4}\n"
     ]
    }
   ],
   "source": [
    "print(rd)"
   ]
  },
  {
   "cell_type": "code",
   "execution_count": 21,
   "id": "babbfc8b",
   "metadata": {},
   "outputs": [],
   "source": [
    "def describe(region_name):\n",
    "    rd, ra=Data.set_array(out=True)\n",
    "    ra[rd[region_name]].describe()\n",
    "\n",
    "def richter(region_name, bins=20, mgm=0, mgx=0, d_min=0, d_max=0, plot=False):\n",
    "    rd, ra=Data.set_array(out=True)\n",
    "    \n",
    "    if bins != 20:\n",
    "       ra[rd[region_name]].bins=bins\n",
    "       \n",
    "    ra[rd[region_name]].richter(mgm, mgx, d_min, d_max, plot=plot)  \n",
    "    \n",
    "def depth_distribution(region_name):\n",
    "    rd, ra=Data.set_array(out=True)\n",
    "    Data.depth_distribution(ra[rd[region_name]])"
   ]
  },
  {
   "cell_type": "code",
   "execution_count": 23,
   "id": "b9bd30f1",
   "metadata": {},
   "outputs": [
    {
     "data": {
      "image/png": "[encoded data removed]",
      "text/plain": [
       "<Figure size 640x480 with 1 Axes>"
      ]
     },
     "metadata": {},
     "output_type": "display_data"
    }
   ],
   "source": [
    "depth_distribution('emilia')"
   ]
  },
  {
   "cell_type": "code",
   "execution_count": 24,
   "id": "5ed1fa59",
   "metadata": {},
   "outputs": [
    {
     "name": "stdout",
     "output_type": "stream",
     "text": [
      "data-set: emilia\n",
      "Size:  144\n",
      "Minimum magnitude:   2.00\n",
      "Maximum magnitude:   4.10\n",
      "Average magnitude:   2.33\n",
      "Stand. dev:          0.37\n",
      "\n",
      "Depths (km):\n",
      "Minimum depth:    1.1, maximum depth   71.1\n",
      "\n"
     ]
    }
   ],
   "source": [
    "describe('emilia')"
   ]
  },
  {
   "cell_type": "code",
   "execution_count": 26,
   "id": "4b4f8954",
   "metadata": {},
   "outputs": [
    {
     "name": "stdout",
     "output_type": "stream",
     "text": [
      "data-set: emilia\n",
      "Size:  144\n",
      "Minimum magnitude:   2.00\n",
      "Maximum magnitude:   4.10\n",
      "Average magnitude:   2.33\n",
      "Stand. dev:          0.37\n",
      "\n",
      "Depths (km):\n",
      "Minimum depth:    1.1, maximum depth   71.1\n",
      "\n",
      "Fit results:\n",
      "Number of events: 96\n",
      "Intercept: 4.32,   Slope: -1.3197\n"
     ]
    },
    {
     "data": {
      "image/png": "[encoded data removed]",
      "text/plain": [
       "<Figure size 640x480 with 1 Axes>"
      ]
     },
     "metadata": {},
     "output_type": "display_data"
    },
    {
     "name": "stdout",
     "output_type": "stream",
     "text": [
      "\n"
     ]
    }
   ],
   "source": [
    "richter('emilia', bins=5, d_max=18, mgx=3.2, plot=True)"
   ]
  },
  {
   "cell_type": "code",
   "execution_count": 29,
   "id": "90049164",
   "metadata": {},
   "outputs": [
    {
     "data": {
      "text/plain": [
       "['sicilia', 'north', 'central', 'emilia', 'central_emilia']"
      ]
     },
     "execution_count": 29,
     "metadata": {},
     "output_type": "execute_result"
    }
   ],
   "source": [
    "Data.region_names_for_dictionary"
   ]
  },
  {
   "cell_type": "code",
   "execution_count": 30,
   "id": "a333d2ef",
   "metadata": {},
   "outputs": [
    {
     "name": "stdout",
     "output_type": "stream",
     "text": [
      "data-set: sicilia\n",
      "Size:  559\n",
      "Minimum magnitude:   2.00\n",
      "Maximum magnitude:   4.30\n",
      "Average magnitude:   2.33\n",
      "Stand. dev:          0.35\n",
      "\n",
      "Depths (km):\n",
      "Minimum depth:    0.0, maximum depth  208.2\n",
      "\n",
      "Fit results:\n",
      "Number of events: 559\n",
      "Intercept: 4.68,   Slope: -1.1153\n",
      "data-set: north\n",
      "Size:  131\n",
      "Minimum magnitude:   2.00\n",
      "Maximum magnitude:   3.90\n",
      "Average magnitude:   2.36\n",
      "Stand. dev:          0.39\n",
      "\n",
      "Depths (km):\n",
      "Minimum depth:    1.5, maximum depth   62.4\n",
      "\n",
      "Fit results:\n",
      "Number of events: 131\n",
      "Intercept: 3.47,   Slope: -0.9287\n",
      "data-set: central\n",
      "Size:  367\n",
      "Minimum magnitude:   2.00\n",
      "Maximum magnitude:   3.90\n",
      "Average magnitude:   2.29\n",
      "Stand. dev:          0.34\n",
      "\n",
      "Depths (km):\n",
      "Minimum depth:    4.9, maximum depth   69.5\n",
      "\n",
      "Fit results:\n",
      "Number of events: 367\n",
      "Intercept: 4.54,   Slope: -1.1795\n",
      "data-set: emilia\n",
      "Size:  144\n",
      "Minimum magnitude:   2.00\n",
      "Maximum magnitude:   4.10\n",
      "Average magnitude:   2.33\n",
      "Stand. dev:          0.37\n",
      "\n",
      "Depths (km):\n",
      "Minimum depth:    1.1, maximum depth   71.1\n",
      "\n",
      "Fit results:\n",
      "Number of events: 144\n",
      "Intercept: 3.45,   Slope: -0.8612\n",
      "data-set: central_emilia\n",
      "Size:  511\n",
      "Minimum magnitude:   2.00\n",
      "Maximum magnitude:   4.10\n",
      "Average magnitude:   2.30\n",
      "Stand. dev:          0.35\n",
      "\n",
      "Depths (km):\n",
      "Minimum depth:    1.1, maximum depth   71.1\n",
      "\n",
      "Fit results:\n",
      "Number of events: 511\n",
      "Intercept: 4.91,   Slope: -1.2612\n"
     ]
    }
   ],
   "source": [
    "for name in Data.region_names_for_dictionary:\n",
    "    richter(name, bins=8)"
   ]
  }
 ],
 "metadata": {
  "kernelspec": {
   "display_name": "Python 3 (ipykernel)",
   "language": "python",
   "name": "python3"
  },
  "language_info": {
   "codemirror_mode": {
    "name": "ipython",
    "version": 3
   },
   "file_extension": ".py",
   "mimetype": "text/x-python",
   "name": "python",
   "nbconvert_exporter": "python",
   "pygments_lexer": "ipython3",
   "version": "3.11.3"
  },
  "varInspector": {
   "cols": {
    "lenName": 16,
    "lenType": 16,
    "lenVar": 40
   },
   "kernels_config": {
    "python": {
     "delete_cmd_postfix": "",
     "delete_cmd_prefix": "del ",
     "library": "var_list.py",
     "varRefreshCmd": "print(var_dic_list())"
    },
    "r": {
     "delete_cmd_postfix": ") ",
     "delete_cmd_prefix": "rm(",
     "library": "var_list.r",
     "varRefreshCmd": "cat(var_dic_list()) "
    }
   },
   "types_to_exclude": [
    "module",
    "function",
    "builtin_function_or_method",
    "instance",
    "_Feature"
   ],
   "window_display": false
  }
 },
 "nbformat": 4,
 "nbformat_minor": 5
}
