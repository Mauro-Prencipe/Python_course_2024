{
 "cells": [
  {
   "cell_type": "markdown",
   "id": "c5263651",
   "metadata": {},
   "source": [
    "## Other interesting features of classes\n",
    "\n",
    "- Class attributes *vs* object attributes\n",
    "- Class methods *vs* object methods\n",
    "\n",
    "Let's create a class having name *Data*, just to store names of objects (*instances* of the class itself). \n",
    "We want to keep track of the number of objects that with create in that *Data* class. Such number of objects will be a variable that should be clearly *logically* related to the class itself, and we would like to have a way to translate such *logical relation* into a *structural relation*. \n",
    "\n",
    "In what follow\n",
    "- we define the variable *number_of_obj* within the body of the *Data* class, and we initialize it to the value 0. This is a ***class attribute***: a value that will be *shared* by each object of the class: it is a *global* variable within the namespace of the class itself, so that it can be *seen* by every *method* of the class and its objects; in other words, it becomes an *attribute* of every object. \n",
    "\n",
    "- As usual, an \\__init\\__ method is created as a *constructor* of each newly defined object of the class. Such method asks for a *name* to be associated to the object and stored as an ***object attribute***. Now, as we create a new object, we want to *upgrade* the class variable *number_of_obj*, and this operation should be performed within the \\__init\\__ method. \n",
    "\n",
    "One way to work is:"
   ]
  },
  {
   "cell_type": "code",
   "execution_count": 1,
   "id": "1e27f7ef",
   "metadata": {},
   "outputs": [],
   "source": [
    "class Data:\n",
    "    number_of_obj=0  \n",
    "    \n",
    "    def __init__(self, name):\n",
    "        self.name=name        \n",
    "        Data.number_of_obj += 1"
   ]
  },
  {
   "cell_type": "markdown",
   "id": "373b93ab",
   "metadata": {},
   "source": [
    "It *works*:"
   ]
  },
  {
   "cell_type": "code",
   "execution_count": 2,
   "id": "58d561ce",
   "metadata": {},
   "outputs": [
    {
     "name": "stdout",
     "output_type": "stream",
     "text": [
      "Number of objects:  2\n",
      "Name of object 1:  x1\n",
      "Name of object 2:  x2\n"
     ]
    }
   ],
   "source": [
    "x1=Data('x1')\n",
    "x2=Data('x2')\n",
    "\n",
    "print(\"Number of objects: \", Data.number_of_obj)\n",
    "print(\"Name of object 1: \", x1.name)\n",
    "print(\"Name of object 2: \", x2.name)"
   ]
  },
  {
   "cell_type": "markdown",
   "id": "32d05c78",
   "metadata": {},
   "source": [
    "Indeed, we created 2 objects (*x1* and *x2*) and such number 2 is correctly recorded in the *Data.number_of_obj* attribute of the class. However this way to proceed is ***not** advised*. In particular, note that the name of the class (*Data*) is *hardcoded* in the definition of the \\__init\\__ function... if, for some reason, at a later time one decides to change the name of the class, every instance of such name within the body of the class must also be changed.\n",
    "\n",
    "Much better is to modify the class attibute by using a *method of the class* itself, rather than a *method of the object*. This is the correct way to proceed:"
   ]
  },
  {
   "cell_type": "code",
   "execution_count": 3,
   "id": "c040e90a",
   "metadata": {},
   "outputs": [],
   "source": [
    "class Data:\n",
    "    number_of_obj=0  \n",
    "    \n",
    "    def __init__(self, name):\n",
    "        self.name=name        \n",
    "        self.increment_number()\n",
    "        \n",
    "    @classmethod\n",
    "    def increment_number(cls):\n",
    "        cls.number_of_obj += 1       "
   ]
  },
  {
   "cell_type": "markdown",
   "id": "4c50d53f",
   "metadata": {},
   "source": [
    "We created a *class method* whose name is *increment_number*, which is preceded by the *@classmethod* ***function decorator***.\n",
    "\n",
    "Such method refers to the *class* by the name *cls* (when invoked, *cls* will take the name *Data*); it increments the class attribute *cls.number_of_obj* by 1 unit. \n",
    "\n",
    "The \\__init\\__ method of the object invokes such class method by calling *self.increment_number()*: indeed, any *class method* is also a method of each of its instances. Let's try it: "
   ]
  },
  {
   "cell_type": "code",
   "execution_count": 4,
   "id": "25b29c5a",
   "metadata": {},
   "outputs": [
    {
     "name": "stdout",
     "output_type": "stream",
     "text": [
      "Number of objects:  2\n",
      "Name of object 1:  x1\n",
      "Name of object 2:  x2\n"
     ]
    }
   ],
   "source": [
    "x1=Data('x1')\n",
    "x2=Data('x2')\n",
    "\n",
    "print(\"Number of objects: \", Data.number_of_obj)\n",
    "print(\"Name of object 1: \", x1.name)\n",
    "print(\"Name of object 2: \", x2.name)"
   ]
  },
  {
   "cell_type": "markdown",
   "id": "29269c71",
   "metadata": {},
   "source": [
    "Now, suppose you want to keep track of the objects you have instantiated (not only their total number). It would be nice to have a list (*obj_list*) of all such objects. Again, this list should be a *class attribute*: "
   ]
  },
  {
   "cell_type": "code",
   "execution_count": 5,
   "id": "781a896b",
   "metadata": {},
   "outputs": [],
   "source": [
    "class Data:\n",
    "    number_of_obj=0  \n",
    "    obj_list=[]\n",
    "    \n",
    "    def __init__(self, name):\n",
    "        self.name=name      \n",
    "        self.increment_number()\n",
    "        self.update_list(name)\n",
    "        \n",
    "        \n",
    "    @classmethod\n",
    "    def increment_number(cls):\n",
    "        cls.number_of_obj += 1    \n",
    "        \n",
    "    @classmethod\n",
    "    def update_list(cls, name):\n",
    "        cls.obj_list.append(name)"
   ]
  },
  {
   "cell_type": "markdown",
   "id": "c00f31e7",
   "metadata": {},
   "source": [
    "With the same logic as before, we created a *class method* to properly handle the class attribute *obj_list*; the method is also called in the object *constructor* (\\__init\\__). Lets'try: "
   ]
  },
  {
   "cell_type": "code",
   "execution_count": 6,
   "id": "649e9e8e",
   "metadata": {},
   "outputs": [
    {
     "name": "stdout",
     "output_type": "stream",
     "text": [
      "Number of objects:  2\n",
      "List of object names ['x1', 'x2']\n"
     ]
    }
   ],
   "source": [
    "x1=Data('x1')\n",
    "x2=Data('x2')\n",
    "\n",
    "print(\"Number of objects: \", Data.number_of_obj)\n",
    "print(\"List of object names\", Data.obj_list)"
   ]
  },
  {
   "cell_type": "markdown",
   "id": "662928c7",
   "metadata": {},
   "source": [
    "Suppose now you are interested to create new objects by *summing* other previously defined ones, by assigning names to them, which are defined following some given rule. For instance, from *x1* and *x2*, you want the object *x3=x1+x2* having the name *x1_x2*. Moreover, you want to really use the *operator* '+' to perform the job!\n",
    "\n",
    "The *dunder* method \\__add(self, other)\\__ is the way to do it..."
   ]
  },
  {
   "cell_type": "code",
   "execution_count": 7,
   "id": "dfafa2dc",
   "metadata": {},
   "outputs": [],
   "source": [
    "class Data:\n",
    "    number_of_obj=0  \n",
    "    obj_list=[]\n",
    "    \n",
    "    def __init__(self, name):\n",
    "        self.name=name\n",
    "        \n",
    "        self.increment_number()\n",
    "        self.update_list(name)\n",
    "        \n",
    "    def __add__(self, other):     \n",
    "        new_obj_name=self.name + '_' + other.name\n",
    "        new_obj=self.join(new_obj_name)\n",
    "        return new_obj\n",
    "              \n",
    "    @classmethod\n",
    "    def increment_number(cls):\n",
    "        cls.number_of_obj += 1    \n",
    "        \n",
    "    @classmethod\n",
    "    def update_list(cls, name):\n",
    "        cls.obj_list.append(name)\n",
    "        \n",
    "    @classmethod\n",
    "    def join(cls, new_name):\n",
    "        return cls(new_name)\n",
    "    \n",
    "    @classmethod\n",
    "    def reset(cls):\n",
    "        cls.number_of_obj=0 \n",
    "        cls.obj_list=[]\n",
    "        "
   ]
  },
  {
   "cell_type": "markdown",
   "id": "21b4544d",
   "metadata": {},
   "source": [
    "Some points must be noted here:\n",
    "\n",
    "- every time the '+' operator will be used on objects of the class *Data*, the corresponding \\__add\\__ method will be invoked;\n",
    "- such method produces the appropriate name and stores it in the *new_obj_name* (local) variable;\n",
    "- \\__add\\__ calls the *class method* *join*, by passing it *new_obj_name* as argument;\n",
    "- the class method *join* returns (to the *caller* function \\__add\\__) a new instance of the class: indeed, *cls(new_name)* is equivalent to *Data(new_name)* which, in turn, is just the creation of a new instance of the *Data* class. This also means that the \\__init\\__ constructor will be called for the newly created object, so that the *number_of_obj* and the *obj_list* will be properly updated;\n",
    "- lastly, the \\__add\\__ method returns the new object.\n",
    "\n",
    "A class method *reset* was also implemented to reset the class variables to their original values. \n",
    "\n",
    "let's see what happen:"
   ]
  },
  {
   "cell_type": "code",
   "execution_count": 8,
   "id": "31f235ed",
   "metadata": {},
   "outputs": [
    {
     "name": "stdout",
     "output_type": "stream",
     "text": [
      "Number of objects:  3\n",
      "List of object names ['x1', 'x2', 'x1_x2']\n"
     ]
    }
   ],
   "source": [
    "x1=Data('x1')\n",
    "x2=Data('x2')\n",
    "\n",
    "x3=x1+x2\n",
    "\n",
    "print(\"Number of objects: \", Data.number_of_obj)\n",
    "print(\"List of object names\", Data.obj_list)"
   ]
  },
  {
   "cell_type": "markdown",
   "id": "e1cd4f37",
   "metadata": {},
   "source": [
    "Note (and try to motivate) the behaviour of the '+' operator in a case like the following:  "
   ]
  },
  {
   "cell_type": "code",
   "execution_count": 9,
   "id": "6f56ed4d",
   "metadata": {},
   "outputs": [
    {
     "name": "stdout",
     "output_type": "stream",
     "text": [
      "Number of objects:  5\n",
      "List of object names ['x1', 'x2', 'x3', 'x1_x2', 'x1_x2_x3']\n"
     ]
    }
   ],
   "source": [
    "Data.reset()\n",
    "\n",
    "x1=Data('x1')\n",
    "x2=Data('x2')\n",
    "x3=Data('x3')\n",
    "\n",
    "x4=x1+x2+x3\n",
    "\n",
    "print(\"Number of objects: \", Data.number_of_obj)\n",
    "print(\"List of object names\", Data.obj_list)"
   ]
  },
  {
   "cell_type": "markdown",
   "id": "52d4f8e6",
   "metadata": {},
   "source": [
    "### Some real dataset\n",
    "\n",
    "Suppose that we want to read seismic data from INGV files, stored in a given subfolder. Each file contains data corresponding to a specific area. An *info* file in the same subfolder contains *file names* and *area names*. In our case, the *info.dat* is as follow:\n",
    "\n",
    "```\n",
    "earthq_sicilia.dat     sicilia\n",
    "earthq_north.dat       north\n",
    "earthq_central.dat     central\n",
    "earthq_emilia.dat      emilia \n",
    "```\n",
    "\n",
    "We add two appropriate class methods to read the data, and one object method to assign attributes to each object:\n",
    "\n",
    "- *read_info* which asks for a path name (the name of the subfolder) and the name of the *info* file. This method prepares the lists *obj_files* and *obj_names*. Each entry in the *obj_files* list corresponds to the *full* name of the file (the *path* is included). \n",
    "- *setup*. This method uses the *pandas* library to get data from the obj_files and, for each *obj* in the *obj_names* list, calls the *set_data* object method;\n",
    "- *set_data*: assigns the attributes *magnitude* and *depth* to each object.\n",
    "\n",
    "Note that we have deleted the methods *\\__add\\__* and *join*, and have modified the \\__init\\__ one.\n",
    "\n",
    "One point in the code below deserves particular attention: in the *setup* method you will see a couple of lines of the type\n",
    "\n",
    "```eval(obj).set_data('magnitude', idata.Magnitude)``` \n",
    "\n",
    "the point worth to be noted is the  ``` eval(obj) ``` one: *eval* takes a string and *evaluate* it to the variable having the same name! However, that variable must already exist (more on this in a second) "
   ]
  },
  {
   "cell_type": "code",
   "execution_count": 10,
   "id": "50306c00",
   "metadata": {},
   "outputs": [],
   "source": [
    "import pandas as pd\n",
    "import numpy as np\n",
    "\n",
    "class Data:\n",
    "    number_of_obj=0  \n",
    "    obj_files=[]\n",
    "    obj_names=[]\n",
    "    \n",
    "    def __init__(self, name):\n",
    "        self.name=name       \n",
    "        self.increment_number()\n",
    "        \n",
    "    def set_data(self, type_of_data, val):\n",
    "        \n",
    "        match type_of_data:\n",
    "            case 'magnitude':\n",
    "               self.magnitude=np.array(val)\n",
    "            case 'depth':\n",
    "               self.depth=np.array(val)\n",
    "            case other:\n",
    "                print(f\"{type_of_data} not implemented\")                   \n",
    "              \n",
    "    @classmethod\n",
    "    def increment_number(cls):\n",
    "        cls.number_of_obj += 1    \n",
    "        \n",
    "           \n",
    "    @classmethod\n",
    "    def read_info(cls, path, info_file):         \n",
    "        file=path+'/'+info_file\n",
    "        fi=open(file)\n",
    "        text=fi.read()\n",
    "        fi.close()\n",
    "        text=text.rstrip().splitlines()\n",
    "        num_lines=len(text)\n",
    "             \n",
    "        for line in text:\n",
    "            line=line.split()\n",
    "            cls.obj_files.append(path+'/'+line[0])\n",
    "            cls.obj_names.append(line[1])\n",
    "            \n",
    "    @classmethod\n",
    "    def setup(cls):\n",
    "        for obj, file in zip(cls.obj_names, cls.obj_files):\n",
    "            idata=pd.read_csv(file, sep='|')\n",
    "            idata.rename(columns={\"Depth/Km\": \"Depth\"}, inplace=True)\n",
    "         \n",
    "            eval(obj).set_data('magnitude', idata.Magnitude)\n",
    "            eval(obj).set_data('depth', idata.Depth)"
   ]
  },
  {
   "cell_type": "markdown",
   "id": "d2d8359c",
   "metadata": {},
   "source": [
    "In order to use the class just created, we have to \n",
    "\n",
    "1. initialize it by reading the *info* file; this is done by calling the class method *Data.read_info*;\n",
    "2. create the required objects by instantiating the class for each *object name* found in the *Data.obj_names* list;\n",
    "3. assigning the attributes to the *objects* created at the point (2), by calling *Data.setup* \n",
    "\n",
    "Concerning the point (2), the line \n",
    "\n",
    "```exec(obj + ' = Data(obj)')``` \n",
    "\n",
    "defines a string by concatenating the string *obj* with the string *=Data(obj)*, thereby producing *obj=Data(obj)*, and executes it! The result is the creation of an object of the class for each entry of the *Data.obj_names* list. \n",
    "\n",
    "The *Data.setup* class method can now be used as its ``` eval(obj) ``` lines evaluate the strings *obj*'s to variable already defined. "
   ]
  },
  {
   "cell_type": "code",
   "execution_count": 11,
   "id": "471910f7",
   "metadata": {},
   "outputs": [],
   "source": [
    "# Point 1\n",
    "Data.read_info('L7_data_files', 'info.dat')\n",
    "\n",
    "# Point 2\n",
    "for obj in Data.obj_names:\n",
    "    exec(obj + ' = Data(obj)')\n",
    "\n",
    "# Point 3\n",
    "Data.setup()"
   ]
  },
  {
   "cell_type": "markdown",
   "id": "ef665d4e",
   "metadata": {},
   "source": [
    "The names of the *regions* found in the *info.dat* file are now stored in the *Data.obj_name* class variable (which is a list): "
   ]
  },
  {
   "cell_type": "code",
   "execution_count": 12,
   "id": "f6feaa74",
   "metadata": {},
   "outputs": [
    {
     "name": "stdout",
     "output_type": "stream",
     "text": [
      "region names:  ['sicilia', 'north', 'central', 'emilia']\n"
     ]
    }
   ],
   "source": [
    "print(\"region names: \", Data.obj_names)"
   ]
  },
  {
   "cell_type": "markdown",
   "id": "cc0e387b",
   "metadata": {},
   "source": [
    "For each region (*object*), magnitude data can be found in the *magnitude object attribute* and accessed by the syntax *obj.magnitude*. For instance, we can enquire about the number of seismic events recorded for the region *sicilia*; this is just the length of the *sicilia.magnitude* numpy array that (as such) has the attribute *size* (length) associated with itself:"
   ]
  },
  {
   "cell_type": "code",
   "execution_count": 13,
   "id": "47dd760e",
   "metadata": {},
   "outputs": [
    {
     "name": "stdout",
     "output_type": "stream",
     "text": [
      "Number of events for Sicilia:  559\n"
     ]
    }
   ],
   "source": [
    "print(\"Number of events for Sicilia: \", sicilia.magnitude.size)"
   ]
  },
  {
   "cell_type": "markdown",
   "id": "a1dfde5c",
   "metadata": {},
   "source": [
    "The average magnitude of those events is:"
   ]
  },
  {
   "cell_type": "code",
   "execution_count": 14,
   "id": "5246ef62",
   "metadata": {},
   "outputs": [
    {
     "name": "stdout",
     "output_type": "stream",
     "text": [
      "Average magnitude:  2.33\n"
     ]
    }
   ],
   "source": [
    "print(\"Average magnitude: \", sicilia.magnitude.mean().round(2))"
   ]
  },
  {
   "cell_type": "markdown",
   "id": "741e27fc",
   "metadata": {},
   "source": [
    "We can add some functionality through a class *Stat* whose functions are inherited by our Data class. In particular, the *Stat* class implements the *describe* method that summarizes some statistical data about any *object* dataset. "
   ]
  },
  {
   "cell_type": "code",
   "execution_count": 15,
   "id": "5735d509",
   "metadata": {},
   "outputs": [],
   "source": [
    "import pandas as pd\n",
    "import numpy as np\n",
    "\n",
    "class Stat():\n",
    "          \n",
    "      def set_size(self):\n",
    "          self.size=len(self.magnitude)\n",
    "          return self.size\n",
    "        \n",
    "      def average(self):\n",
    "          ave = 0.\n",
    "          size = self.set_size()\n",
    "          self.size=size\n",
    "          for ix in self.magnitude:\n",
    "              ave=ave+ix\n",
    "          ave=ave/size\n",
    "          self.ave=ave\n",
    "          self.flag=True\n",
    "          return ave\n",
    "        \n",
    "      def standard_deviation(self, force=True):\n",
    "          if (not self.flag) or (self.flag and force):\n",
    "             ave=self.average() \n",
    "            \n",
    "          ave=self.ave\n",
    "          size=self.size\n",
    "          std=0.\n",
    "          for ix in self.magnitude:\n",
    "              std=std+(ix-ave)**2\n",
    "                \n",
    "          std=(std/(size-1))**0.5\n",
    "          self.std=std\n",
    "          return std\n",
    "            \n",
    "      def describe(self):   \n",
    "              \n",
    "          self.average()\n",
    "          self.standard_deviation()\n",
    "          self.min_mag=np.min(self.magnitude)\n",
    "          self.max_mag=np.max(self.magnitude)\n",
    "          self.depth_min=np.min(self.depth)\n",
    "          self.depth_max=np.max(self.depth)\n",
    "                    \n",
    "          print(\"data-set: %s\" % self.name)\n",
    "          print(\"Size: %4i\" % self.size)\n",
    "          print(\"Minimum magnitude:  %5.2f\" % self.min_mag)\n",
    "          print(\"Maximum magnitude:  %5.2f\" % self.max_mag)\n",
    "          print(\"Average magnitude:  %5.2f\" % self.ave)\n",
    "          print(\"Stand. dev:         %5.2f\\n\" % self.std)\n",
    "          print(\"Depths (km):\")\n",
    "          print(\"Minimum depth: %6.1f, maximum depth %6.1f\\n\" %\n",
    "                (self.depth_min, self.depth_max))\n",
    "                \n",
    "class Data(Stat):\n",
    "    number_of_obj=0  \n",
    "    obj_files=[]\n",
    "    obj_names=[]\n",
    "    \n",
    "    def __init__(self, name):\n",
    "        self.name=name       \n",
    "        self.increment_number()\n",
    "        self.flag=True\n",
    "        self.size=None\n",
    "        \n",
    "    def set_data(self, type_of_data, val):\n",
    "        \n",
    "        match type_of_data:\n",
    "            case 'magnitude':\n",
    "               self.magnitude=np.array(val)\n",
    "            \n",
    "            case 'depth':\n",
    "               self.depth=np.array(val)\n",
    "               \n",
    "            case other:\n",
    "                print(f\"{type_of_data} not implemented\")\n",
    "\n",
    "            \n",
    "    @classmethod\n",
    "    def increment_number(cls):\n",
    "        cls.number_of_obj += 1    \n",
    "        \n",
    "           \n",
    "    @classmethod\n",
    "    def read_info(cls, path, info_file):         \n",
    "        file=path+'/'+info_file\n",
    "        fi=open(file)\n",
    "        text=fi.read()\n",
    "        fi.close()\n",
    "        text=text.rstrip().splitlines()\n",
    "        num_lines=len(text)\n",
    "             \n",
    "        for line in text:\n",
    "            line=line.split()\n",
    "            cls.obj_files.append(path+'/'+line[0])\n",
    "            cls.obj_names.append(line[1])\n",
    "            \n",
    "    @classmethod\n",
    "    def setup(cls):\n",
    "        for obj, file in zip(cls.obj_names, cls.obj_files):\n",
    "            idata=pd.read_csv(file, sep='|')\n",
    "            idata.rename(columns={\"Depth/Km\": \"Depth\"}, inplace=True)\n",
    "            eval(obj).set_data('magnitude', idata.Magnitude)\n",
    "            eval(obj).set_data('depth', idata.Depth)\n",
    "            \n",
    "            "
   ]
  },
  {
   "cell_type": "markdown",
   "id": "9c55d558",
   "metadata": {},
   "source": [
    "Let's setup the dataset as before:"
   ]
  },
  {
   "cell_type": "code",
   "execution_count": 16,
   "id": "1b979fe6",
   "metadata": {},
   "outputs": [],
   "source": [
    "Data.read_info('L7_data_files', 'info.dat')\n",
    "for obj in Data.obj_names:\n",
    "    exec(obj + ' = Data(obj)')\n",
    "Data.setup()"
   ]
  },
  {
   "cell_type": "markdown",
   "id": "a81f9e79",
   "metadata": {},
   "source": [
    "Now, for instance, we can call *describe* on the *sicilia* object:"
   ]
  },
  {
   "cell_type": "code",
   "execution_count": 17,
   "id": "b9e92c46",
   "metadata": {},
   "outputs": [
    {
     "name": "stdout",
     "output_type": "stream",
     "text": [
      "data-set: sicilia\n",
      "Size:  559\n",
      "Minimum magnitude:   2.00\n",
      "Maximum magnitude:   4.30\n",
      "Average magnitude:   2.33\n",
      "Stand. dev:          0.35\n",
      "\n",
      "Depths (km):\n",
      "Minimum depth:    0.0, maximum depth  208.2\n",
      "\n"
     ]
    }
   ],
   "source": [
    "sicilia.describe()"
   ]
  },
  {
   "cell_type": "markdown",
   "id": "3be8d793",
   "metadata": {},
   "source": [
    "### Setting up an array of *objects*\n",
    "\n",
    "Sometimes you may want to store in an array all of your *objects* as defined by the methods above, instead of recalling their names (that's quite common if you have tens or hundreds files referring to different locations, times, etc...). To implement this situation we add to our class a new *class method*, we named *set_array* and modify the *setup* method to handle this new situation.\n",
    "\n",
    "Let's have a look at the code:"
   ]
  },
  {
   "cell_type": "code",
   "execution_count": 18,
   "id": "e21e0fe5",
   "metadata": {},
   "outputs": [],
   "source": [
    "# reset all of the variables \n",
    "%reset -f"
   ]
  },
  {
   "cell_type": "code",
   "execution_count": 19,
   "id": "d16cd044",
   "metadata": {},
   "outputs": [],
   "source": [
    "import pandas as pd\n",
    "import numpy as np\n",
    "\n",
    "class Stat():\n",
    "          \n",
    "      def set_size(self):\n",
    "          self.size=len(self.magnitude)\n",
    "          return self.size\n",
    "        \n",
    "      def average(self):\n",
    "          ave = 0.\n",
    "          size = self.set_size()\n",
    "          self.size=size\n",
    "          for ix in self.magnitude:\n",
    "              ave=ave+ix\n",
    "          ave=ave/size\n",
    "          self.ave=ave\n",
    "          self.flag=True\n",
    "          return ave\n",
    "        \n",
    "      def standard_deviation(self, force=True):\n",
    "          if (not self.flag) or (self.flag and force):\n",
    "             ave=self.average() \n",
    "            \n",
    "          ave=self.ave\n",
    "          size=self.size\n",
    "          std=0.\n",
    "          for ix in self.magnitude:\n",
    "              std=std+(ix-ave)**2\n",
    "                \n",
    "          std=(std/(size-1))**0.5\n",
    "          self.std=std\n",
    "          return std\n",
    "            \n",
    "      def describe(self):   \n",
    "              \n",
    "          self.average()\n",
    "          self.standard_deviation()\n",
    "          self.min_mag=np.min(self.magnitude)\n",
    "          self.max_mag=np.max(self.magnitude)\n",
    "          self.depth_min=np.min(self.depth)\n",
    "          self.depth_max=np.max(self.depth)\n",
    "                    \n",
    "          print(\"data-set: %s\" % self.name)\n",
    "          print(\"Size: %4i\" % self.size)\n",
    "          print(\"Minimum magnitude:  %5.2f\" % self.min_mag)\n",
    "          print(\"Maximum magnitude:  %5.2f\" % self.max_mag)\n",
    "          print(\"Average magnitude:  %5.2f\" % self.ave)\n",
    "          print(\"Stand. dev:         %5.2f\\n\" % self.std)\n",
    "          print(\"Depths (km):\")\n",
    "          print(\"Minimum depth: %6.1f, maximum depth %6.1f\\n\" %\n",
    "                (self.depth_min, self.depth_max))\n",
    "                \n",
    "class Data(Stat):\n",
    "    number_of_obj=0  \n",
    "    obj_files=[]\n",
    "    obj_names=[]\n",
    "    flag_array=False\n",
    "    \n",
    "    def __init__(self, name):\n",
    "        self.name=name       \n",
    "        self.flag=True\n",
    "        self.size=None\n",
    "        \n",
    "    def set_data(self, type_of_data, val):\n",
    "        \n",
    "        match type_of_data:\n",
    "            case 'magnitude':\n",
    "               self.magnitude=np.array(val)\n",
    "            \n",
    "            case 'depth':\n",
    "               self.depth=np.array(val)\n",
    "               \n",
    "            case other:\n",
    "                print(f\"{type_of_data} not implemented\")\n",
    "        \n",
    "           \n",
    "    @classmethod\n",
    "    def read_info(cls, path, info_file):         \n",
    "        file=path+'/'+info_file\n",
    "        fi=open(file)\n",
    "        text=fi.read()\n",
    "        fi.close()\n",
    "        text=text.rstrip().splitlines()\n",
    "        num_lines=len(text)\n",
    "        cls.number_of_obj=num_lines\n",
    "             \n",
    "        for line in text:\n",
    "            line=line.split()\n",
    "            cls.obj_files.append(path+'/'+line[0])\n",
    "            cls.obj_names.append(line[1])\n",
    "            \n",
    "    @classmethod\n",
    "    def setup(cls):\n",
    "        for obj, file in zip(cls.obj_names, cls.obj_files):\n",
    "            idata=pd.read_csv(file, sep='|')\n",
    "            idata.rename(columns={\"Depth/Km\": \"Depth\"}, inplace=True)\n",
    "           \n",
    "            if not cls.flag_array:\n",
    "               try:\n",
    "                  eval(obj).set_data('magnitude', idata.Magnitude)\n",
    "                  eval(obj).set_data('depth', idata.Depth)\n",
    "               except NameError:\n",
    "                  print(\"Array method should be set as 'region variables'\")\n",
    "                  print(\"are not defined. Use the command:\")\n",
    "                  print(\">>> Data.set_array()\")\n",
    "                  break\n",
    "            else:\n",
    "               ipos=cls.obj_dictionary[obj]               \n",
    "               cls.obj_array[ipos].set_data('magnitude', idata.Magnitude)\n",
    "               cls.obj_array[ipos].set_data('depth', idata.Depth)\n",
    "               cls.obj_array[ipos].flag_ready=True           \n",
    "                    \n",
    "            \n",
    "    @classmethod\n",
    "    def set_array(cls, out=False):  \n",
    "        cls.flag_array=True\n",
    "        number_list=list(range(len(cls.obj_names)))\n",
    "        l_set=list(iset for iset in cls.obj_names)        \n",
    "        cls.obj_dictionary=dict(zip(cls.obj_names, number_list))\n",
    "        cls.obj_array=np.array(number_list, dtype='object')\n",
    "        \n",
    "        for name in cls.obj_dictionary:\n",
    "            ipos=cls.obj_dictionary[name]\n",
    "            cls.obj_array[ipos]=cls(cls.obj_names[ipos])\n",
    "            \n",
    "        cls.setup()\n",
    "        \n",
    "        if out:\n",
    "            return cls.obj_dictionary, cls.obj_array "
   ]
  },
  {
   "cell_type": "markdown",
   "id": "1d935639",
   "metadata": {},
   "source": [
    "*set_array* \n",
    "\n",
    "- defines a flag (the class attribute *flag_array*) to signal (to *setup*) the fact that we are switching to an *array mode*;\n",
    "- creates a list of integers (*number_list*) running from 0 to the number of objects that will be instantiated (diminished by 1), with the purpose of defining a *dictionary of objects* so that each one will be associated to an integer indicating the position of the object itself in the array;\n",
    "- then the dictionary is created as class attribute (*obj_dictionary*).\n",
    "- Prepares the class attribute *obj_array* as an array of type *object* (initialized with the *number_list* defined above).\n",
    "- For each name found in the dictionary, it gets the integer associated with it (*ipos*) and defines the *new* object *obj_array\\[ipos\\]* as an instance of the class, having name *obj_names\\[ipos\\]*.\n",
    "- Then it calls *setup*.\n",
    "- If the *out* optional argument of the present method is True, it returns both the dictionary and the array. \n",
    "\n",
    "*setup*\n",
    "\n",
    "The method *setup* is modified so that, if *obj.flag_array* is True, the attributes *magnitude* and *depth* are assigned to the elements of the *obj_array* (still by the *set_data* method.)  \n",
    "\n",
    "Now, we can work as before:"
   ]
  },
  {
   "cell_type": "code",
   "execution_count": 20,
   "id": "7fc5f387",
   "metadata": {},
   "outputs": [],
   "source": [
    "Data.read_info('L7_data_files', 'info.dat')\n",
    "for obj in Data.obj_names:\n",
    "    exec(obj + ' = Data(obj)')\n",
    "Data.setup()"
   ]
  },
  {
   "cell_type": "code",
   "execution_count": 21,
   "id": "e2c385b8",
   "metadata": {},
   "outputs": [
    {
     "name": "stdout",
     "output_type": "stream",
     "text": [
      "data-set: north\n",
      "Size:  131\n",
      "Minimum magnitude:   2.00\n",
      "Maximum magnitude:   3.90\n",
      "Average magnitude:   2.36\n",
      "Stand. dev:          0.39\n",
      "\n",
      "Depths (km):\n",
      "Minimum depth:    1.5, maximum depth   62.4\n",
      "\n"
     ]
    }
   ],
   "source": [
    "north.describe()"
   ]
  },
  {
   "cell_type": "markdown",
   "id": "29250bdf",
   "metadata": {},
   "source": [
    "Or we can setup the array:"
   ]
  },
  {
   "cell_type": "code",
   "execution_count": 22,
   "id": "b3e6d8c2",
   "metadata": {},
   "outputs": [],
   "source": [
    "rd, ra = Data.set_array(out=True)"
   ]
  },
  {
   "cell_type": "markdown",
   "id": "7d1808bb",
   "metadata": {},
   "source": [
    "where *rd* is the object dictionary, and *ra* is the array of objects (region dictionary and regions arrays in our example) "
   ]
  },
  {
   "cell_type": "code",
   "execution_count": 23,
   "id": "592ac361",
   "metadata": {},
   "outputs": [
    {
     "name": "stdout",
     "output_type": "stream",
     "text": [
      "region dictionary:  {'sicilia': 0, 'north': 1, 'central': 2, 'emilia': 3}\n"
     ]
    }
   ],
   "source": [
    "print('region dictionary: ', rd)"
   ]
  },
  {
   "cell_type": "markdown",
   "id": "58448bc6",
   "metadata": {},
   "source": [
    "Now, we can call *describe* by using the array instead of the *names*: "
   ]
  },
  {
   "cell_type": "code",
   "execution_count": 24,
   "id": "4dcc7096",
   "metadata": {},
   "outputs": [
    {
     "name": "stdout",
     "output_type": "stream",
     "text": [
      "data-set: north\n",
      "Size:  131\n",
      "Minimum magnitude:   2.00\n",
      "Maximum magnitude:   3.90\n",
      "Average magnitude:   2.36\n",
      "Stand. dev:          0.39\n",
      "\n",
      "Depths (km):\n",
      "Minimum depth:    1.5, maximum depth   62.4\n",
      "\n"
     ]
    }
   ],
   "source": [
    "ra[1].describe()"
   ]
  },
  {
   "cell_type": "markdown",
   "id": "3940f4ec",
   "metadata": {},
   "source": [
    "or, by using the dictionary:"
   ]
  },
  {
   "cell_type": "code",
   "execution_count": 25,
   "id": "c6b0ad27",
   "metadata": {},
   "outputs": [
    {
     "name": "stdout",
     "output_type": "stream",
     "text": [
      "data-set: north\n",
      "Size:  131\n",
      "Minimum magnitude:   2.00\n",
      "Maximum magnitude:   3.90\n",
      "Average magnitude:   2.36\n",
      "Stand. dev:          0.39\n",
      "\n",
      "Depths (km):\n",
      "Minimum depth:    1.5, maximum depth   62.4\n",
      "\n"
     ]
    }
   ],
   "source": [
    "ra[rd['north']].describe()"
   ]
  },
  {
   "cell_type": "markdown",
   "id": "ddf97762",
   "metadata": {},
   "source": [
    "### Use the class as an external module\n",
    "\n",
    "It is possible to save the whole class in a file (we call *L7Lib*) in a given folder (*L7_lib*). The *Data* class is then imported to be used in our Python program.\n",
    "\n",
    "For instance, we import the class in a script where the *start* function is implemented to prepare the dataset in the *array mode*:"
   ]
  },
  {
   "cell_type": "code",
   "execution_count": 26,
   "id": "f981b9e4",
   "metadata": {},
   "outputs": [],
   "source": [
    "%reset -f"
   ]
  },
  {
   "cell_type": "code",
   "execution_count": 27,
   "id": "d1ab9637",
   "metadata": {},
   "outputs": [],
   "source": [
    "from L7_lib.L7Lib import Data\n",
    "\n",
    "def start(path='L7_data_files', info='info.dat'):\n",
    "    \n",
    "    Data.read_info(path, info)\n",
    "    for obj in Data.obj_names:\n",
    "        exec(obj + ' = Data(obj)')\n",
    "    \n",
    "    return Data.set_array(out=True)"
   ]
  },
  {
   "cell_type": "markdown",
   "id": "dab4a5e0",
   "metadata": {},
   "source": [
    "Note that *start* returns the dictionary and the array:"
   ]
  },
  {
   "cell_type": "code",
   "execution_count": 28,
   "id": "8443e065",
   "metadata": {},
   "outputs": [],
   "source": [
    "rd, ra=start()"
   ]
  },
  {
   "cell_type": "markdown",
   "id": "f88bcd79",
   "metadata": {},
   "source": [
    "As before:"
   ]
  },
  {
   "cell_type": "code",
   "execution_count": 29,
   "id": "470c594b",
   "metadata": {},
   "outputs": [
    {
     "name": "stdout",
     "output_type": "stream",
     "text": [
      "data-set: north\n",
      "Size:  131\n",
      "Minimum magnitude:   2.00\n",
      "Maximum magnitude:   3.90\n",
      "Average magnitude:   2.36\n",
      "Stand. dev:          0.39\n",
      "\n",
      "Depths (km):\n",
      "Minimum depth:    1.5, maximum depth   62.4\n",
      "\n"
     ]
    }
   ],
   "source": [
    "ra[1].describe()"
   ]
  },
  {
   "cell_type": "code",
   "execution_count": 30,
   "id": "f736d6e5",
   "metadata": {},
   "outputs": [
    {
     "name": "stdout",
     "output_type": "stream",
     "text": [
      "data-set: central\n",
      "Size:  367\n",
      "Minimum magnitude:   2.00\n",
      "Maximum magnitude:   3.90\n",
      "Average magnitude:   2.29\n",
      "Stand. dev:          0.34\n",
      "\n",
      "Depths (km):\n",
      "Minimum depth:    4.9, maximum depth   69.5\n",
      "\n"
     ]
    }
   ],
   "source": [
    "ra[rd['central']].describe()"
   ]
  },
  {
   "cell_type": "markdown",
   "id": "c5d86473",
   "metadata": {},
   "source": [
    "Or we can have a look at the whole dataset with a list comprehension like the one below:"
   ]
  },
  {
   "cell_type": "code",
   "execution_count": 31,
   "id": "02a52dee",
   "metadata": {},
   "outputs": [
    {
     "name": "stdout",
     "output_type": "stream",
     "text": [
      "data-set: sicilia\n",
      "Size:  559\n",
      "Minimum magnitude:   2.00\n",
      "Maximum magnitude:   4.30\n",
      "Average magnitude:   2.33\n",
      "Stand. dev:          0.35\n",
      "\n",
      "Depths (km):\n",
      "Minimum depth:    0.0, maximum depth  208.2\n",
      "\n",
      "data-set: north\n",
      "Size:  131\n",
      "Minimum magnitude:   2.00\n",
      "Maximum magnitude:   3.90\n",
      "Average magnitude:   2.36\n",
      "Stand. dev:          0.39\n",
      "\n",
      "Depths (km):\n",
      "Minimum depth:    1.5, maximum depth   62.4\n",
      "\n",
      "data-set: central\n",
      "Size:  367\n",
      "Minimum magnitude:   2.00\n",
      "Maximum magnitude:   3.90\n",
      "Average magnitude:   2.29\n",
      "Stand. dev:          0.34\n",
      "\n",
      "Depths (km):\n",
      "Minimum depth:    4.9, maximum depth   69.5\n",
      "\n",
      "data-set: emilia\n",
      "Size:  144\n",
      "Minimum magnitude:   2.00\n",
      "Maximum magnitude:   4.10\n",
      "Average magnitude:   2.33\n",
      "Stand. dev:          0.37\n",
      "\n",
      "Depths (km):\n",
      "Minimum depth:    1.1, maximum depth   71.1\n",
      "\n"
     ]
    }
   ],
   "source": [
    "_ = [ra[ipos].describe() for ipos in range(Data.number_of_obj)]"
   ]
  }
 ],
 "metadata": {
  "kernelspec": {
   "display_name": "Python 3 (ipykernel)",
   "language": "python",
   "name": "python3"
  },
  "language_info": {
   "codemirror_mode": {
    "name": "ipython",
    "version": 3
   },
   "file_extension": ".py",
   "mimetype": "text/x-python",
   "name": "python",
   "nbconvert_exporter": "python",
   "pygments_lexer": "ipython3",
   "version": "3.11.3"
  },
  "latex_envs": {
   "LaTeX_envs_menu_present": true,
   "autoclose": false,
   "autocomplete": true,
   "bibliofile": "biblio.bib",
   "cite_by": "apalike",
   "current_citInitial": 1,
   "eqLabelWithNumbers": true,
   "eqNumInitial": 1,
   "hotkeys": {
    "equation": "Ctrl-E",
    "itemize": "Ctrl-I"
   },
   "labels_anchors": false,
   "latex_user_defs": false,
   "report_style_numbering": false,
   "user_envs_cfg": false
  },
  "varInspector": {
   "cols": {
    "lenName": 16,
    "lenType": 16,
    "lenVar": 40
   },
   "kernels_config": {
    "python": {
     "delete_cmd_postfix": "",
     "delete_cmd_prefix": "del ",
     "library": "var_list.py",
     "varRefreshCmd": "print(var_dic_list())"
    },
    "r": {
     "delete_cmd_postfix": ") ",
     "delete_cmd_prefix": "rm(",
     "library": "var_list.r",
     "varRefreshCmd": "cat(var_dic_list()) "
    }
   },
   "types_to_exclude": [
    "module",
    "function",
    "builtin_function_or_method",
    "instance",
    "_Feature"
   ],
   "window_display": false
  }
 },
 "nbformat": 4,
 "nbformat_minor": 5
}
